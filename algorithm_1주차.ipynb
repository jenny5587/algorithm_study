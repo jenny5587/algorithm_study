{
  "cells": [
    {
      "cell_type": "markdown",
      "metadata": {
        "id": "view-in-github",
        "colab_type": "text"
      },
      "source": [
        "<a href=\"https://colab.research.google.com/github/joungminhee/algorithm_study/blob/master/%08algorithm_1%EC%A3%BC%EC%B0%A8.ipynb\" target=\"_parent\"><img src=\"https://colab.research.google.com/assets/colab-badge.svg\" alt=\"Open In Colab\"/></a>"
      ]
    },
    {
      "cell_type": "markdown",
      "metadata": {
        "id": "WtaC5zDQ6PPH"
      },
      "source": [
        "# Do-it (1)"
      ]
    },
    {
      "cell_type": "code",
      "execution_count": null,
      "metadata": {
        "colab": {
          "base_uri": "https://localhost:8080/"
        },
        "id": "eUSs2YoM6OtX",
        "outputId": "14c634be-ac86-4caf-8dfb-190b0b63aebf"
      },
      "outputs": [
        {
          "name": "stdout",
          "output_type": "stream",
          "text": [
            "세 정수의 최댓값을 구합니다\n",
            "정수 a의 값을 입력하세요.: 1\n",
            "정수 b의 값을 입력하세요.: 3\n",
            "정수 c의 값을 입력하세요.: 2\n",
            "최댓값은 3입니다\n"
          ]
        }
      ],
      "source": [
        "# 세 정수를 입력받아 최댓값 구하기\n",
        "\n",
        "print('세 정수의 최댓값을 구합니다')\n",
        "a= int(input('정수 a의 값을 입력하세요.: '))\n",
        "b= int(input('정수 b의 값을 입력하세요.: '))\n",
        "c= int(input('정수 c의 값을 입력하세요.: '))\n",
        "\n",
        "maximum = a\n",
        "if b > maximum: maximum = b\n",
        "if c > maximum: maximum = c\n",
        "\n",
        "print(f'최댓값은 {maximum}입니다')"
      ]
    },
    {
      "cell_type": "code",
      "execution_count": null,
      "metadata": {
        "colab": {
          "base_uri": "https://localhost:8080/"
        },
        "id": "MQ4de2dH7Ja7",
        "outputId": "676906a8-17dd-433e-8691-033074da146b"
      },
      "outputs": [
        {
          "name": "stdout",
          "output_type": "stream",
          "text": [
            "이름을 입력하세요.:정민희\n",
            "안녕하세요?정민희님.\n"
          ]
        }
      ],
      "source": [
        "# 이름을 입력받아 인사하기\n",
        "\n",
        "name=input('이름을 입력하세요.:')\n",
        "print(f'안녕하세요?{name}님.')"
      ]
    },
    {
      "cell_type": "code",
      "execution_count": null,
      "metadata": {
        "colab": {
          "background_save": true,
          "base_uri": "https://localhost:8080/"
        },
        "id": "ajRj4iCJ_3Lj",
        "outputId": "967cdd62-90b0-4d2d-ef15-2ebf91aeed0b"
      },
      "outputs": [
        {
          "name": "stdout",
          "output_type": "stream",
          "text": [
            "세 정수의 중앙값을 구합니다.\n"
          ]
        }
      ],
      "source": [
        "# 세 정수를 입력받아 중앙값 구하기\n",
        "\n",
        "def med3(a,b,c):\n",
        "    if a >= b:\n",
        "        if b>= c:\n",
        "            return b\n",
        "        elif a <=c:\n",
        "            return a\n",
        "        else:\n",
        "            return c\n",
        "    elif a > c:\n",
        "        return a\n",
        "    elif b > c:\n",
        "        return c\n",
        "    else:\n",
        "        return b\n",
        "\n",
        "print('세 정수의 중앙값을 구합니다.')\n",
        "a = int(input('정수 a의 값은?:'))\n",
        "b = int(input('정수 b의 값은?:'))\n",
        "c = int(input('정수 c의 값은?:'))\n",
        "\n",
        "print(f'중앙값은 {med3(a,b,c)}입니다')"
      ]
    },
    {
      "cell_type": "code",
      "execution_count": 2,
      "metadata": {
        "id": "gsJcPAdA_3DR",
        "colab": {
          "base_uri": "https://localhost:8080/"
        },
        "outputId": "cc09264a-65da-403b-ebb5-9a283f91d294"
      },
      "outputs": [
        {
          "output_type": "stream",
          "name": "stdout",
          "text": [
            "정수를 입력하세요.: -2\n",
            "이 수는 음수입니다\n"
          ]
        }
      ],
      "source": [
        "# 입력받은 정수의 부호(양수,음수,0) 출력하기\n",
        "\n",
        "n= int(input('정수를 입력하세요.: '))\n",
        "\n",
        "if n >0:\n",
        "    print('이 수는 양수입니다')\n",
        "elif n < 0:\n",
        "    print('이 수는 음수입니다')\n",
        "else :\n",
        "    print('이 수는 0입니다')"
      ]
    },
    {
      "cell_type": "code",
      "source": [
        "#3개로 분기하는 조건문\n",
        "# 분기: 프로그램의 실행 흐름을 다른 곳으로 변경하는 명령\n",
        "\n",
        "n= int(input('정수를 입력하세요.: '))\n",
        "\n",
        "if n == 1:\n",
        "    print('A')\n",
        "elif n==2:\n",
        "    print('B')\n",
        "else:\n",
        "    print('C')"
      ],
      "metadata": {
        "colab": {
          "base_uri": "https://localhost:8080/"
        },
        "id": "1hOfZWwE0nR0",
        "outputId": "8f58829e-c602-482b-ec62-fb2503cc9cf0"
      },
      "execution_count": 5,
      "outputs": [
        {
          "output_type": "stream",
          "name": "stdout",
          "text": [
            "정수를 입력하세요.: 4\n",
            "C\n"
          ]
        }
      ]
    },
    {
      "cell_type": "code",
      "source": [
        "#4개로 분기하는 조건문\n",
        "\n",
        "n = int(input('정수를 입력하세요.: '))\n",
        "\n",
        "if n ==1:\n",
        "    print('A')\n",
        "elif n==2:\n",
        "    print('B')\n",
        "elif n==3:\n",
        "    print('C')\n",
        "else :\n",
        "    pass\n",
        "# pass : 아무것도 수행하지 말고 그냥 지나치세요"
      ],
      "metadata": {
        "colab": {
          "base_uri": "https://localhost:8080/"
        },
        "id": "9YkqUwl102WJ",
        "outputId": "2fa6e7a0-ed50-4620-97ff-8ffb25c0c2fa"
      },
      "execution_count": 6,
      "outputs": [
        {
          "name": "stdout",
          "output_type": "stream",
          "text": [
            "정수를 입력하세요.: 4\n"
          ]
        }
      ]
    },
    {
      "cell_type": "code",
      "source": [
        "# 1부터 n까지 정수의 합 구하기1(while문)\n",
        "\n",
        "print('1부터 n까지 정수의 합을 구합니다.')\n",
        "n = int(input('n값을 입력하세요.:'))\n",
        "\n",
        "sum = 0\n",
        "i = 1\n",
        "\n",
        "while i <=n:\n",
        "    sum +=i\n",
        "    i+=1\n",
        "\n",
        "print(f'1부터 {n}까지 정수의 합은 {sum}입니다')\n",
        "print(f'i값은 {i}입니다')"
      ],
      "metadata": {
        "colab": {
          "base_uri": "https://localhost:8080/"
        },
        "id": "6XYq-BTi2-3f",
        "outputId": "f769d835-e346-4ae7-b4c0-f225fbc7fe29"
      },
      "execution_count": 8,
      "outputs": [
        {
          "output_type": "stream",
          "name": "stdout",
          "text": [
            "1부터 n까지 정수의 합을 구합니다.\n",
            "n값을 입력하세요.:2\n",
            "1부터 2까지 정수의 합은 3입니다\n",
            "i값은 3입니다\n"
          ]
        }
      ]
    },
    {
      "cell_type": "code",
      "source": [
        "# 변수가 하나만 있을 때는 while 문보다 for문을 사용하는것이 더 좋다.\n",
        "\n",
        "#1부터 n까지 정수의 합 구하기2(for문)\n",
        "\n",
        "print('1부터 n까지 정수의 합을 구합니다.')\n",
        "n= int(input('n값을 입력하세요.: '))\n",
        "\n",
        "sum = 0 \n",
        "for i in range(1, n+1):\n",
        "    sum += i\n",
        "\n",
        "print(f'1부터 {n}까지 정수의 합은 {sum}입니다.')"
      ],
      "metadata": {
        "colab": {
          "base_uri": "https://localhost:8080/"
        },
        "id": "CLx9My9C5Q5w",
        "outputId": "5ac3a0c5-22a1-4117-a0d3-b6bdcfb29501"
      },
      "execution_count": 9,
      "outputs": [
        {
          "output_type": "stream",
          "name": "stdout",
          "text": [
            "1부터 n까지 정수의 합을 구합니다.\n",
            "n값을 입력하세요.: 2\n",
            "1부터 2까지 정수의 합은 3입니다.\n"
          ]
        }
      ]
    }
  ],
  "metadata": {
    "accelerator": "GPU",
    "colab": {
      "collapsed_sections": [],
      "name": "\balgorithm-1주차.ipynb",
      "provenance": [],
      "authorship_tag": "ABX9TyPSWSAlUKmlQT5lkaVUtSLY",
      "include_colab_link": true
    },
    "gpuClass": "standard",
    "kernelspec": {
      "display_name": "Python 3",
      "name": "python3"
    },
    "language_info": {
      "name": "python"
    }
  },
  "nbformat": 4,
  "nbformat_minor": 0
}