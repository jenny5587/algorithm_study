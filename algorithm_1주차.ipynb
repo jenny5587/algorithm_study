{
  "nbformat": 4,
  "nbformat_minor": 0,
  "metadata": {
    "colab": {
      "name": "\balgorithm-1주차.ipynb",
      "provenance": [],
      "collapsed_sections": [],
      "authorship_tag": "ABX9TyMBY//ROrbJM7zhnnZ7g6Ar",
      "include_colab_link": true
    },
    "kernelspec": {
      "name": "python3",
      "display_name": "Python 3"
    },
    "language_info": {
      "name": "python"
    },
    "accelerator": "GPU",
    "gpuClass": "standard"
  },
  "cells": [
    {
      "cell_type": "markdown",
      "metadata": {
        "id": "view-in-github",
        "colab_type": "text"
      },
      "source": [
        "<a href=\"https://colab.research.google.com/github/joungminhee/algorithm_study/blob/master/%08algorithm_1%EC%A3%BC%EC%B0%A8.ipynb\" target=\"_parent\"><img src=\"https://colab.research.google.com/assets/colab-badge.svg\" alt=\"Open In Colab\"/></a>"
      ]
    },
    {
      "cell_type": "markdown",
      "source": [
        "# Do-it (1)"
      ],
      "metadata": {
        "id": "WtaC5zDQ6PPH"
      }
    },
    {
      "cell_type": "code",
      "execution_count": null,
      "metadata": {
        "colab": {
          "base_uri": "https://localhost:8080/"
        },
        "id": "eUSs2YoM6OtX",
        "outputId": "14c634be-ac86-4caf-8dfb-190b0b63aebf"
      },
      "outputs": [
        {
          "output_type": "stream",
          "name": "stdout",
          "text": [
            "세 정수의 최댓값을 구합니다\n",
            "정수 a의 값을 입력하세요.: 1\n",
            "정수 b의 값을 입력하세요.: 3\n",
            "정수 c의 값을 입력하세요.: 2\n",
            "최댓값은 3입니다\n"
          ]
        }
      ],
      "source": [
        "# 세 정수를 입력받아 최댓값 구하기\n",
        "\n",
        "print('세 정수의 최댓값을 구합니다')\n",
        "a= int(input('정수 a의 값을 입력하세요.: '))\n",
        "b= int(input('정수 b의 값을 입력하세요.: '))\n",
        "c= int(input('정수 c의 값을 입력하세요.: '))\n",
        "\n",
        "maximum = a\n",
        "if b > maximum: maximum = b\n",
        "if c > maximum: maximum = c\n",
        "\n",
        "print(f'최댓값은 {maximum}입니다')"
      ]
    },
    {
      "cell_type": "code",
      "source": [
        "# 이름을 입력받아 인사하기\n",
        "\n",
        "name=input('이름을 입력하세요.:')\n",
        "print(f'안녕하세요?{name}님.')"
      ],
      "metadata": {
        "colab": {
          "base_uri": "https://localhost:8080/"
        },
        "id": "MQ4de2dH7Ja7",
        "outputId": "676906a8-17dd-433e-8691-033074da146b"
      },
      "execution_count": null,
      "outputs": [
        {
          "output_type": "stream",
          "name": "stdout",
          "text": [
            "이름을 입력하세요.:정민희\n",
            "안녕하세요?정민희님.\n"
          ]
        }
      ]
    },
    {
      "cell_type": "code",
      "source": [
        "# 세 정수를 입력받아 중앙값 구하기\n",
        "\n",
        "def med3(a,b,c):\n",
        "    if a >= b:\n",
        "        if b>= c:\n",
        "            return b\n",
        "        elif a <=c:\n",
        "            return a\n",
        "        else:\n",
        "            return c\n",
        "    elif a > c:\n",
        "        return a\n",
        "    elif b > c:\n",
        "        return c\n",
        "    else:\n",
        "        return b\n",
        "\n",
        "print('세 정수의 중앙값을 구합니다.')\n",
        "a = int(input('정수 a의 값은?:'))\n",
        "b = int(input('정수 b의 값은?:'))\n",
        "c = int(input('정수 c의 값은?:'))\n",
        "\n",
        "print(f'중앙값은 {med3(a,b,c)}입니다')"
      ],
      "metadata": {
        "colab": {
          "base_uri": "https://localhost:8080/"
        },
        "id": "ajRj4iCJ_3Lj",
        "outputId": "42cc93b7-905c-42af-c275-325dd5e5ac65"
      },
      "execution_count": 1,
      "outputs": [
        {
          "output_type": "stream",
          "name": "stdout",
          "text": [
            "세 정수의 중앙값을 구합니다.\n",
            "정수 a의 값은?:1\n",
            "정수 b의 값은?:2\n",
            "정수 c의 값은?:3\n",
            "중앙값은 2입니다\n"
          ]
        }
      ]
    },
    {
      "cell_type": "code",
      "source": [
        ""
      ],
      "metadata": {
        "id": "gsJcPAdA_3DR"
      },
      "execution_count": null,
      "outputs": []
    }
  ]
}