{
  "cells": [
    {
      "cell_type": "markdown",
      "metadata": {
        "id": "view-in-github",
        "colab_type": "text"
      },
      "source": [
        "<a href=\"https://colab.research.google.com/github/joungminhee/algorithm_study/blob/master/%08algorithm_1%EC%A3%BC%EC%B0%A8.ipynb\" target=\"_parent\"><img src=\"https://colab.research.google.com/assets/colab-badge.svg\" alt=\"Open In Colab\"/></a>"
      ]
    },
    {
      "cell_type": "markdown",
      "metadata": {
        "id": "WtaC5zDQ6PPH"
      },
      "source": [
        "# Do-it (1)"
      ]
    },
    {
      "cell_type": "code",
      "execution_count": null,
      "metadata": {
        "colab": {
          "base_uri": "https://localhost:8080/"
        },
        "id": "eUSs2YoM6OtX",
        "outputId": "14c634be-ac86-4caf-8dfb-190b0b63aebf"
      },
      "outputs": [
        {
          "name": "stdout",
          "output_type": "stream",
          "text": [
            "세 정수의 최댓값을 구합니다\n",
            "정수 a의 값을 입력하세요.: 1\n",
            "정수 b의 값을 입력하세요.: 3\n",
            "정수 c의 값을 입력하세요.: 2\n",
            "최댓값은 3입니다\n"
          ]
        }
      ],
      "source": [
        "# 세 정수를 입력받아 최댓값 구하기\n",
        "\n",
        "print('세 정수의 최댓값을 구합니다')\n",
        "a= int(input('정수 a의 값을 입력하세요.: '))\n",
        "b= int(input('정수 b의 값을 입력하세요.: '))\n",
        "c= int(input('정수 c의 값을 입력하세요.: '))\n",
        "\n",
        "maximum = a\n",
        "if b > maximum: maximum = b\n",
        "if c > maximum: maximum = c\n",
        "\n",
        "print(f'최댓값은 {maximum}입니다')"
      ]
    },
    {
      "cell_type": "code",
      "execution_count": null,
      "metadata": {
        "colab": {
          "base_uri": "https://localhost:8080/"
        },
        "id": "MQ4de2dH7Ja7",
        "outputId": "676906a8-17dd-433e-8691-033074da146b"
      },
      "outputs": [
        {
          "name": "stdout",
          "output_type": "stream",
          "text": [
            "이름을 입력하세요.:정민희\n",
            "안녕하세요?정민희님.\n"
          ]
        }
      ],
      "source": [
        "# 이름을 입력받아 인사하기\n",
        "\n",
        "name=input('이름을 입력하세요.:')\n",
        "print(f'안녕하세요?{name}님.')"
      ]
    },
    {
      "cell_type": "code",
      "execution_count": null,
      "metadata": {
        "colab": {
          "background_save": true,
          "base_uri": "https://localhost:8080/"
        },
        "id": "ajRj4iCJ_3Lj",
        "outputId": "967cdd62-90b0-4d2d-ef15-2ebf91aeed0b"
      },
      "outputs": [
        {
          "name": "stdout",
          "output_type": "stream",
          "text": [
            "세 정수의 중앙값을 구합니다.\n"
          ]
        }
      ],
      "source": [
        "# 세 정수를 입력받아 중앙값 구하기\n",
        "\n",
        "def med3(a,b,c):\n",
        "    if a >= b:\n",
        "        if b>= c:\n",
        "            return b\n",
        "        elif a <=c:\n",
        "            return a\n",
        "        else:\n",
        "            return c\n",
        "    elif a > c:\n",
        "        return a\n",
        "    elif b > c:\n",
        "        return c\n",
        "    else:\n",
        "        return b\n",
        "\n",
        "print('세 정수의 중앙값을 구합니다.')\n",
        "a = int(input('정수 a의 값은?:'))\n",
        "b = int(input('정수 b의 값은?:'))\n",
        "c = int(input('정수 c의 값은?:'))\n",
        "\n",
        "print(f'중앙값은 {med3(a,b,c)}입니다')"
      ]
    },
    {
      "cell_type": "code",
      "execution_count": null,
      "metadata": {
        "id": "gsJcPAdA_3DR",
        "colab": {
          "base_uri": "https://localhost:8080/"
        },
        "outputId": "cc09264a-65da-403b-ebb5-9a283f91d294"
      },
      "outputs": [
        {
          "output_type": "stream",
          "name": "stdout",
          "text": [
            "정수를 입력하세요.: -2\n",
            "이 수는 음수입니다\n"
          ]
        }
      ],
      "source": [
        "# 입력받은 정수의 부호(양수,음수,0) 출력하기\n",
        "\n",
        "n= int(input('정수를 입력하세요.: '))\n",
        "\n",
        "if n >0:\n",
        "    print('이 수는 양수입니다')\n",
        "elif n < 0:\n",
        "    print('이 수는 음수입니다')\n",
        "else :\n",
        "    print('이 수는 0입니다')"
      ]
    },
    {
      "cell_type": "code",
      "source": [
        "#3개로 분기하는 조건문\n",
        "# 분기: 프로그램의 실행 흐름을 다른 곳으로 변경하는 명령\n",
        "\n",
        "n= int(input('정수를 입력하세요.: '))\n",
        "\n",
        "if n == 1:\n",
        "    print('A')\n",
        "elif n==2:\n",
        "    print('B')\n",
        "else:\n",
        "    print('C')"
      ],
      "metadata": {
        "colab": {
          "base_uri": "https://localhost:8080/"
        },
        "id": "1hOfZWwE0nR0",
        "outputId": "8f58829e-c602-482b-ec62-fb2503cc9cf0"
      },
      "execution_count": null,
      "outputs": [
        {
          "output_type": "stream",
          "name": "stdout",
          "text": [
            "정수를 입력하세요.: 4\n",
            "C\n"
          ]
        }
      ]
    },
    {
      "cell_type": "code",
      "source": [
        "#4개로 분기하는 조건문\n",
        "\n",
        "n = int(input('정수를 입력하세요.: '))\n",
        "\n",
        "if n ==1:\n",
        "    print('A')\n",
        "elif n==2:\n",
        "    print('B')\n",
        "elif n==3:\n",
        "    print('C')\n",
        "else :\n",
        "    pass\n",
        "# pass : 아무것도 수행하지 말고 그냥 지나치세요"
      ],
      "metadata": {
        "colab": {
          "base_uri": "https://localhost:8080/"
        },
        "id": "9YkqUwl102WJ",
        "outputId": "2fa6e7a0-ed50-4620-97ff-8ffb25c0c2fa"
      },
      "execution_count": null,
      "outputs": [
        {
          "name": "stdout",
          "output_type": "stream",
          "text": [
            "정수를 입력하세요.: 4\n"
          ]
        }
      ]
    },
    {
      "cell_type": "code",
      "source": [
        "# 1부터 n까지 정수의 합 구하기1(while문)\n",
        "\n",
        "print('1부터 n까지 정수의 합을 구합니다.')\n",
        "n = int(input('n값을 입력하세요.:'))\n",
        "\n",
        "sum = 0\n",
        "i = 1\n",
        "\n",
        "while i <=n:\n",
        "    sum +=i\n",
        "    i+=1\n",
        "\n",
        "print(f'1부터 {n}까지 정수의 합은 {sum}입니다')\n",
        "print(f'i값은 {i}입니다')"
      ],
      "metadata": {
        "colab": {
          "base_uri": "https://localhost:8080/"
        },
        "id": "6XYq-BTi2-3f",
        "outputId": "326078a2-4f9b-4fab-ac13-b7f7477755fb"
      },
      "execution_count": null,
      "outputs": [
        {
          "output_type": "stream",
          "name": "stdout",
          "text": [
            "1부터 n까지 정수의 합을 구합니다.\n",
            "n값을 입력하세요.:1\n",
            "1부터 1까지 정수의 합은 1입니다\n",
            "i값은 2입니다\n"
          ]
        }
      ]
    },
    {
      "cell_type": "code",
      "source": [
        "# 변수가 하나만 있을 때는 while 문보다 for문을 사용하는것이 더 좋다.\n",
        "\n",
        "#1부터 n까지 정수의 합 구하기2(for문)\n",
        "\n",
        "print('1부터 n까지 정수의 합을 구합니다.')\n",
        "n= int(input('n값을 입력하세요.: '))\n",
        "\n",
        "sum = 0 \n",
        "for i in range(1, n+1):\n",
        "    sum += i\n",
        "\n",
        "print(f'1부터 {n}까지 정수의 합은 {sum}입니다.')"
      ],
      "metadata": {
        "colab": {
          "base_uri": "https://localhost:8080/"
        },
        "id": "CLx9My9C5Q5w",
        "outputId": "96d2b122-223d-43c8-f87f-f4f0940d3ab6"
      },
      "execution_count": null,
      "outputs": [
        {
          "output_type": "stream",
          "name": "stdout",
          "text": [
            "1부터 n까지 정수의 합을 구합니다.\n",
            "n값을 입력하세요.: -5\n",
            "1부터 -5까지 정수의 합은 0입니다.\n"
          ]
        }
      ]
    },
    {
      "cell_type": "code",
      "source": [
        "# a부터 b까지 정수의 합 구하기\n",
        "\n",
        "print('a부터 b까지 정수의 합을 구합니다.')\n",
        "a = int(input('정수 a를 입력하세요.:'))\n",
        "b = int(input('정수 b를 입력하세요.:'))\n",
        "\n",
        "if a>b:\n",
        "    a,b = b,a\n",
        "\n",
        "sum = 0\n",
        "for i in range(a, b+1):\n",
        "    if i < b:\n",
        "        print(f'{i} + ', end='')\n",
        "    else:\n",
        "        print(f'{i} = ', end='')\n",
        "    sum += i\n",
        "\n",
        "print(sum)"
      ],
      "metadata": {
        "id": "vy1LPHoTRKn-"
      },
      "execution_count": null,
      "outputs": []
    },
    {
      "cell_type": "code",
      "source": [
        "# +와 -를 번갈아 출력하기 \n",
        "\n",
        "print('+와 -를 번갈아 출력합니다.')\n",
        "n= int(input('몇 개를 출력할까요?: '))\n",
        "\n",
        "for i in range(n):\n",
        "    if i % 2:\n",
        "        print('-', end='')\n",
        "    else:\n",
        "        print('+', end='')\n",
        "print()\n",
        "# end옵션을 사용하면 그 뒤의 출력값과 이어서 출력한다. (즉, 줄바꿈을 하지 않게 된다.)"
      ],
      "metadata": {
        "colab": {
          "base_uri": "https://localhost:8080/"
        },
        "id": "LYXRrc_weDsK",
        "outputId": "e5d263db-55d2-485a-d1e3-e553cbbb3a9c"
      },
      "execution_count": null,
      "outputs": [
        {
          "output_type": "stream",
          "name": "stdout",
          "text": [
            "+와 -를 번갈아 출력합니다.\n",
            "몇 개를 출력할까요?: 3\n",
            "+-+\n"
          ]
        }
      ]
    },
    {
      "cell_type": "code",
      "source": [
        "# +와 -를 번갈아 출력하기 \n",
        "\n",
        "print('+와 -를 번갈아 출력합니다.')\n",
        "n= int(input('몇 개를 출력할까요?: '))\n",
        "\n",
        "for _ in range(n //2 ):\n",
        "        print('+-', end='')\n",
        "# 3 // 2 로 하면 몫이 1번 출력 = '+-'\n",
        "# 4 // 2 로 하면 몫이 2번 출력 = '+-+-'\n",
        "if n % 2:\n",
        "        print('+', end='')\n",
        "print()"
      ],
      "metadata": {
        "colab": {
          "base_uri": "https://localhost:8080/"
        },
        "id": "4EvkhPc9fiRb",
        "outputId": "91daa153-fa67-4f9d-ce42-9aa3601d641c"
      },
      "execution_count": null,
      "outputs": [
        {
          "output_type": "stream",
          "name": "stdout",
          "text": [
            "+와 -를 번갈아 출력합니다.\n",
            "몇 개를 출력할까요?: 3\n",
            "+-+\n"
          ]
        }
      ]
    },
    {
      "cell_type": "code",
      "source": [
        "# +를 n개 출력하되 w개마다 줄바꿈하기\n",
        "\n",
        "print('*를 출력합니다.')\n",
        "n= int(input('몇 개를 출력할까요?:'))\n",
        "w = int(input('몇 개마다 줄바꿈할까요?:'))\n",
        "\n",
        "# for i in range(n):\n",
        "#     print('*', end='')\n",
        "#     if i % w == w-1:\n",
        "#         print()\n",
        "\n",
        "for _ in range(n//w):\n",
        "    print('*'* w)\n",
        "\n",
        "rest = n % w\n",
        "if rest:\n",
        "    print('*'* rest)"
      ],
      "metadata": {
        "colab": {
          "base_uri": "https://localhost:8080/"
        },
        "id": "t1Z427miSH4V",
        "outputId": "fcee56ad-0fdc-4988-b3ff-b29a6f165310"
      },
      "execution_count": null,
      "outputs": [
        {
          "output_type": "stream",
          "name": "stdout",
          "text": [
            "*를 출력합니다.\n",
            "몇 개를 출력할까요?:14\n",
            "몇 개마다 줄바꿈할까요?:5\n",
            "*****\n",
            "*****\n",
            "****\n"
          ]
        }
      ]
    },
    {
      "cell_type": "code",
      "source": [
        "# *를 n개 출력하되 w개마다 줄바꿈하기\n",
        "\n",
        "print('*를 출력합니다.')\n",
        "n= int(input('몇 개를 출력할까요?:'))\n",
        "w = int(input('몇 개마다 줄바꿈할까요?:'))\n",
        "\n",
        "for _ in range(n):\n",
        "    print()"
      ],
      "metadata": {
        "id": "FfN4bGbVT_rN"
      },
      "execution_count": null,
      "outputs": []
    },
    {
      "cell_type": "code",
      "source": [
        "# 1부터 n까지 정수의 합 구하기(n값은 양수만 입력받음)\n",
        "\n",
        "print('1부터 n까지 정수의 합을 구합니다.')\n",
        "\n",
        "while True:\n",
        "    n= int(input('n값을 입력하세요.: '))\n",
        "    if n>0:\n",
        "        break\n",
        "\n",
        "sum = 0 \n",
        "for i in range(1, n+1):\n",
        "    sum += i\n",
        "\n",
        "print(f'1부터 {n}까지 정수의 합은 {sum}입니다.')"
      ],
      "metadata": {
        "colab": {
          "base_uri": "https://localhost:8080/"
        },
        "id": "TKWjUmejVIT8",
        "outputId": "17e06a45-54f2-44a6-eedd-5ed6699dc734"
      },
      "execution_count": null,
      "outputs": [
        {
          "output_type": "stream",
          "name": "stdout",
          "text": [
            "1부터 n까지 정수의 합을 구합니다.\n",
            "n값을 입력하세요.: -6\n",
            "n값을 입력하세요.: 3\n",
            "1부터 3까지 정수의 합은 6입니다.\n"
          ]
        }
      ]
    },
    {
      "cell_type": "code",
      "source": [
        "# 가로,세로 길이가 정수이고 넓이가 area인 직사각형에서 변의 길이 나열하기\n",
        "\n",
        "area = int(input('직사각형의 넓이를 입력하세요.:'))\n",
        "for i in range(1, area+1):\n",
        "    if i * i > area: break\n",
        "    if area % i : continue\n",
        "    print(f'{i} x {area // i}')"
      ],
      "metadata": {
        "colab": {
          "base_uri": "https://localhost:8080/"
        },
        "id": "sdhOPvZ_YX7A",
        "outputId": "3fa245d1-7a6e-4ac5-bcd5-c8b2a60d9fdd"
      },
      "execution_count": null,
      "outputs": [
        {
          "output_type": "stream",
          "name": "stdout",
          "text": [
            "직사각형의 넓이를 입력하세요.:32\n",
            "1 x 32\n",
            "2 x 16\n",
            "4 x 8\n"
          ]
        }
      ]
    },
    {
      "cell_type": "code",
      "source": [
        "# 10~99 사이의 난수 n개 생성하기(13이 나오면 중단)\n",
        "\n",
        "import random\n",
        "\n",
        "n= int(input('난수의 개수를 입력하세요:'))\n",
        "\n",
        "for _ in range(n):\n",
        "    r = random.randint(10,99)\n",
        "    print(r, end='')\n",
        "    if r == 13:\n",
        "        print('\\프로그램을 중단합니다')\n",
        "        break\n",
        "else:\n",
        "    print('\\n난수 생성을 종료합니다')"
      ],
      "metadata": {
        "colab": {
          "base_uri": "https://localhost:8080/"
        },
        "id": "EymUtv40aqSi",
        "outputId": "a23aca22-aa66-4fea-e629-05d800a3d609"
      },
      "execution_count": null,
      "outputs": [
        {
          "output_type": "stream",
          "name": "stdout",
          "text": [
            "난수의 개수를 입력하세요:4\n",
            "59306462\n",
            "난수 생성을 종료합니다\n"
          ]
        }
      ]
    },
    {
      "cell_type": "code",
      "source": [
        "# 1~12까지 8을 건너뛰고 출력하기\n",
        "\n",
        "for i in range(1,13):\n",
        "    if i == 8:\n",
        "        continue\n",
        "    print(i, end='')\n",
        "\n",
        "print()"
      ],
      "metadata": {
        "colab": {
          "base_uri": "https://localhost:8080/"
        },
        "id": "FJLMga9Kbd7h",
        "outputId": "f0d56c14-1f4f-4e75-a305-c0556bd23bf4"
      },
      "execution_count": null,
      "outputs": [
        {
          "output_type": "stream",
          "name": "stdout",
          "text": [
            "12345679101112\n"
          ]
        }
      ]
    },
    {
      "cell_type": "code",
      "source": [
        "# 1~12까지 8을 건너뛰고 출력하기(건너뛰는 값을 아는경우)\n",
        "\n",
        "for i in list(range(1,8)) + list(range(9,13)):\n",
        "    print(i, end='')\n",
        "print()"
      ],
      "metadata": {
        "colab": {
          "base_uri": "https://localhost:8080/"
        },
        "id": "4pcQAT0tbvIe",
        "outputId": "65e72241-b952-4b06-9100-b97c583559ca"
      },
      "execution_count": null,
      "outputs": [
        {
          "output_type": "stream",
          "name": "stdout",
          "text": [
            "12345679101112\n"
          ]
        }
      ]
    },
    {
      "cell_type": "code",
      "source": [
        "# 구구단 곱셉표 출력하기\n",
        "\n",
        "print('-'*27)\n",
        "for i in range(1,10):\n",
        "    for j in range(1,10):\n",
        "        print(f'{i * j:3}', end='')\n",
        "    print()\n",
        "print('-'*27)\n",
        "# j:3 은 가지런히 줄맞추는 용도(띄어쓰기한듯)"
      ],
      "metadata": {
        "colab": {
          "base_uri": "https://localhost:8080/"
        },
        "id": "wsAU_WBgHo8D",
        "outputId": "b4f0a36c-1339-4e69-e127-2a6efb504a2d"
      },
      "execution_count": 8,
      "outputs": [
        {
          "output_type": "stream",
          "name": "stdout",
          "text": [
            "---------------------------\n",
            "  1  2  3  4  5  6  7  8  9\n",
            "  2  4  6  8 10 12 14 16 18\n",
            "  3  6  9 12 15 18 21 24 27\n",
            "  4  8 12 16 20 24 28 32 36\n",
            "  5 10 15 20 25 30 35 40 45\n",
            "  6 12 18 24 30 36 42 48 54\n",
            "  7 14 21 28 35 42 49 56 63\n",
            "  8 16 24 32 40 48 56 64 72\n",
            "  9 18 27 36 45 54 63 72 81\n",
            "---------------------------\n"
          ]
        }
      ]
    },
    {
      "cell_type": "code",
      "source": [
        "# 왼쪽 아래가 직각인 이등변 삼각형으로 *출력하기\n",
        "\n",
        "print('왼쪽 아래가 직각인 이등변 삼각형을 출력합니다')\n",
        "n= int(input('짧은 변의 길이를 입력하세요.:'))\n",
        "\n",
        "for i in range(n):\n",
        "    for j in range(i+1):\n",
        "        print('*',end='')\n",
        "    print()"
      ],
      "metadata": {
        "colab": {
          "base_uri": "https://localhost:8080/"
        },
        "id": "GB135WLMHoyk",
        "outputId": "9a6ed004-1e77-431d-f4f1-5caac8ff32d1"
      },
      "execution_count": 9,
      "outputs": [
        {
          "output_type": "stream",
          "name": "stdout",
          "text": [
            "왼쪽 아래가 직각인 이등변 삼각형을 출력합니다\n",
            "짧은 변의 길이를 입력하세요.:5\n",
            "*\n",
            "**\n",
            "***\n",
            "****\n",
            "*****\n"
          ]
        }
      ]
    },
    {
      "cell_type": "code",
      "source": [
        "# 오른쪽 아래가 직각인 이등변 삼각형으로 *출력하기\n",
        "\n",
        "print('왼쪽 아래가 직각인 이등변 삼각형을 출력합니다')\n",
        "n= int(input('짧은 변의 길이를 입력하세요.:'))\n",
        "\n",
        "for i in range(n):\n",
        "    for _ in range(n-i-1):\n",
        "        print(' ', end='')\n",
        "    for j in range(i+1):\n",
        "        print('*', end='')\n",
        "    print()"
      ],
      "metadata": {
        "colab": {
          "base_uri": "https://localhost:8080/"
        },
        "id": "SucK8OSAHolS",
        "outputId": "7c3e6829-1bab-4a32-e3dd-8193d1c4d3f1"
      },
      "execution_count": 12,
      "outputs": [
        {
          "output_type": "stream",
          "name": "stdout",
          "text": [
            "왼쪽 아래가 직각인 이등변 삼각형을 출력합니다\n",
            "짧은 변의 길이를 입력하세요.:5\n",
            "    *\n",
            "   **\n",
            "  ***\n",
            " ****\n",
            "*****\n"
          ]
        }
      ]
    },
    {
      "cell_type": "code",
      "source": [
        "# 함수 내부/외부에서 정의한 변수와 객체의 식별 번호를 출력하기\n",
        "\n",
        "n=1\n",
        "def put_id():\n",
        "    x =1\n",
        "    print(f'id(x) = {id(x)}')\n",
        "\n",
        "print(f'id(1) = {id(1)}')\n",
        "print(f'id(n) = {id(n)}')\n",
        "put_id()"
      ],
      "metadata": {
        "colab": {
          "base_uri": "https://localhost:8080/"
        },
        "id": "PdCiT_2JMmVx",
        "outputId": "874a47ae-9d62-4ca0-c4c5-fae9bd8f9095"
      },
      "execution_count": 15,
      "outputs": [
        {
          "output_type": "stream",
          "name": "stdout",
          "text": [
            "id(1) = 11256064\n",
            "id(n) = 11256064\n",
            "id(x) = 11256064\n"
          ]
        }
      ]
    }
  ],
  "metadata": {
    "colab": {
      "collapsed_sections": [],
      "name": "\balgorithm-1주차.ipynb",
      "provenance": [],
      "authorship_tag": "ABX9TyPPMAeSE8OtbVGFzGI/f0gl",
      "include_colab_link": true
    },
    "gpuClass": "standard",
    "kernelspec": {
      "display_name": "Python 3",
      "name": "python3"
    },
    "language_info": {
      "name": "python"
    }
  },
  "nbformat": 4,
  "nbformat_minor": 0
}