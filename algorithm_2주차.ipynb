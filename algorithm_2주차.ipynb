{
  "nbformat": 4,
  "nbformat_minor": 0,
  "metadata": {
    "colab": {
      "name": "algorithm_2주차.ipynb",
      "provenance": [],
      "collapsed_sections": [],
      "authorship_tag": "ABX9TyPSuwGWqN5AykfL0HLi2Ho+",
      "include_colab_link": true
    },
    "kernelspec": {
      "name": "python3",
      "display_name": "Python 3"
    },
    "language_info": {
      "name": "python"
    }
  },
  "cells": [
    {
      "cell_type": "markdown",
      "metadata": {
        "id": "view-in-github",
        "colab_type": "text"
      },
      "source": [
        "<a href=\"https://colab.research.google.com/github/joungminhee/algorithm_study/blob/master/algorithm_2%EC%A3%BC%EC%B0%A8.ipynb\" target=\"_parent\"><img src=\"https://colab.research.google.com/assets/colab-badge.svg\" alt=\"Open In Colab\"/></a>"
      ]
    },
    {
      "cell_type": "markdown",
      "source": [
        "# 기본 자료구조와 배열"
      ],
      "metadata": {
        "id": "V_wTjGs6AtcQ"
      }
    },
    {
      "cell_type": "code",
      "execution_count": 1,
      "metadata": {
        "id": "z1HoW3C0R194"
      },
      "outputs": [],
      "source": [
        "# 리스트는 쉼표가 맨 마지막 원소 뒤에 쓸 수 있다.\n",
        "list = [1,2,3,]"
      ]
    },
    {
      "cell_type": "code",
      "source": [
        "# 튜플도 쉼표가 맨 마지막 원소 뒤에 올 수 있으며,\n",
        "# 결합 연산자()를 생략할 수 있다.\n",
        "tuple=1,2,3,"
      ],
      "metadata": {
        "id": "0C0jQ0HE_zS6"
      },
      "execution_count": 7,
      "outputs": []
    },
    {
      "cell_type": "code",
      "source": [
        "n=12\n",
        "id(n)\n",
        "n=13\n",
        "id(n)"
      ],
      "metadata": {
        "colab": {
          "base_uri": "https://localhost:8080/"
        },
        "id": "N19huPxHEaCo",
        "outputId": "1ab95d26-874c-407f-8bb6-e35bd5a15916"
      },
      "execution_count": 10,
      "outputs": [
        {
          "output_type": "execute_result",
          "data": {
            "text/plain": [
              "11256416"
            ]
          },
          "metadata": {},
          "execution_count": 10
        }
      ]
    },
    {
      "cell_type": "code",
      "source": [
        "a = \"Pithon\"\n",
        "a[1]"
      ],
      "metadata": {
        "colab": {
          "base_uri": "https://localhost:8080/",
          "height": 36
        },
        "id": "LpxXvjR5FZV1",
        "outputId": "fca7ed5f-8c8c-40e8-bccd-dbe8857c3b1a"
      },
      "execution_count": 11,
      "outputs": [
        {
          "output_type": "execute_result",
          "data": {
            "text/plain": [
              "'i'"
            ],
            "application/vnd.google.colaboratory.intrinsic+json": {
              "type": "string"
            }
          },
          "metadata": {},
          "execution_count": 11
        }
      ]
    },
    {
      "cell_type": "code",
      "source": [
        "a[1] = 'y'"
      ],
      "metadata": {
        "colab": {
          "base_uri": "https://localhost:8080/",
          "height": 170
        },
        "id": "gWBVjlr-FfXN",
        "outputId": "e1581e37-2bc8-4c70-9daa-6a8b7cdb6788"
      },
      "execution_count": 12,
      "outputs": [
        {
          "output_type": "error",
          "ename": "TypeError",
          "evalue": "ignored",
          "traceback": [
            "\u001b[0;31m---------------------------------------------------------------------------\u001b[0m",
            "\u001b[0;31mTypeError\u001b[0m                                 Traceback (most recent call last)",
            "\u001b[0;32m<ipython-input-12-d5923cc78d10>\u001b[0m in \u001b[0;36m<module>\u001b[0;34m()\u001b[0m\n\u001b[0;32m----> 1\u001b[0;31m \u001b[0ma\u001b[0m\u001b[0;34m[\u001b[0m\u001b[0;36m1\u001b[0m\u001b[0;34m]\u001b[0m \u001b[0;34m=\u001b[0m \u001b[0;34m'y'\u001b[0m\u001b[0;34m\u001b[0m\u001b[0;34m\u001b[0m\u001b[0m\n\u001b[0m",
            "\u001b[0;31mTypeError\u001b[0m: 'str' object does not support item assignment"
          ]
        }
      ]
    },
    {
      "cell_type": "code",
      "source": [
        "n = 12\n",
        "n[0] = 2"
      ],
      "metadata": {
        "colab": {
          "base_uri": "https://localhost:8080/",
          "height": 188
        },
        "id": "y-PPER16Fnw0",
        "outputId": "e68344b2-6c5d-4f6f-c511-61cea044666b"
      },
      "execution_count": 16,
      "outputs": [
        {
          "output_type": "error",
          "ename": "TypeError",
          "evalue": "ignored",
          "traceback": [
            "\u001b[0;31m---------------------------------------------------------------------------\u001b[0m",
            "\u001b[0;31mTypeError\u001b[0m                                 Traceback (most recent call last)",
            "\u001b[0;32m<ipython-input-16-60043c281097>\u001b[0m in \u001b[0;36m<module>\u001b[0;34m()\u001b[0m\n\u001b[1;32m      1\u001b[0m \u001b[0mn\u001b[0m \u001b[0;34m=\u001b[0m \u001b[0;36m12\u001b[0m\u001b[0;34m\u001b[0m\u001b[0;34m\u001b[0m\u001b[0m\n\u001b[0;32m----> 2\u001b[0;31m \u001b[0mn\u001b[0m\u001b[0;34m[\u001b[0m\u001b[0;36m0\u001b[0m\u001b[0;34m]\u001b[0m \u001b[0;34m=\u001b[0m \u001b[0;36m2\u001b[0m\u001b[0;34m\u001b[0m\u001b[0;34m\u001b[0m\u001b[0m\n\u001b[0m",
            "\u001b[0;31mTypeError\u001b[0m: 'int' object does not support item assignment"
          ]
        }
      ]
    },
    {
      "cell_type": "markdown",
      "source": [
        "* 1) a 변수에 \"Pithon\" 문자열을 대입하고 a[1]의 값이 i니까 a[1]을 y로 바꾸어 준다 -> 값을 변경할 수 없다.\n",
        "* 2) 정수를 나타내는 int형도 값을 변경할 수 없다.\n",
        "* 왜냐하면 문자열의 요솟값과 정수값은 바꿀 수 있는 값이 아니기 때문이다 (그래서 immutable한 자료형이라고도 부른다)."
      ],
      "metadata": {
        "id": "IxcZACGzFYHo"
      }
    },
    {
      "cell_type": "markdown",
      "source": [
        "* tuple의 좌변에는 인덱스식과 슬라이스식이 올 수 없다."
      ],
      "metadata": {
        "id": "J73Nh3h9JHdX"
      }
    },
    {
      "cell_type": "code",
      "source": [
        "# 시퀀스 원소의 최댓값 출력하기\n",
        "\n",
        "from typing import Any,Sequence\n",
        "\n",
        "def max_of(a: Sequence) -> Any:\n",
        "# 매개변수 a의 자료형은 Sequence, 반환하는 것은 임의의 자료인 Any형\n",
        "    maximum = a[0]\n",
        "    for i in range(1, len(a)):\n",
        "        if a[i] > maximum:\n",
        "            maximum = a[i]\n",
        "    return maximum\n",
        "    # def 함수정의할때 return\n",
        "\n",
        "if __name__ == '__main__':\n",
        "    print('배열의 최댓값을 구합니다.')\n",
        "    num = int(input('원소 수를 입력하세요.:'))\n",
        "    x = [None]* num\n",
        "\n",
        "    for i in range(num):\n",
        "        x[i] = int(input(f'x[{i}]값을 입력하세요.:'))\n",
        "\n",
        "    print(f'최댓값은 {max_of(x)}입니다.')"
      ],
      "metadata": {
        "colab": {
          "base_uri": "https://localhost:8080/"
        },
        "id": "HbEOeiTvG5jm",
        "outputId": "99127fb8-669c-4e80-d541-38c4773e6147"
      },
      "execution_count": 23,
      "outputs": [
        {
          "output_type": "stream",
          "name": "stdout",
          "text": [
            "배열의 최댓값을 구합니다.\n",
            "원소 수를 입력하세요.:5\n",
            "x[0]값을 입력하세요.:172\n",
            "x[1]값을 입력하세요.:153\n",
            "x[2]값을 입력하세요.:192\n",
            "x[3]값을 입력하세요.:140\n",
            "x[4]값을 입력하세요.:165\n",
            "최댓값은 192입니다.\n"
          ]
        }
      ]
    },
    {
      "cell_type": "code",
      "source": [
        "# 배열 원소의 최댓값을 구해서 출력하기(원솟값을 입력받음)\n",
        "\n",
        "# from max import max_of\n",
        "\n",
        "print('배열의 최댓값을 구합니다.')\n",
        "print('주의: \"end\"를 입력하면 종료합니다.')\n",
        "\n",
        "number = 0\n",
        "x = []\n",
        "\n",
        "while True:\n",
        "    s = (input(f'x[{number}]값을 입력하세요.:'))\n",
        "    if s == 'End':\n",
        "        break\n",
        "    x.append(int(s))\n",
        "    number += 1\n",
        "\n",
        "print(f'{number}개를 입력했습니다.')\n",
        "print(f'최댓값은 {max_of(x)}입니다.')"
      ],
      "metadata": {
        "colab": {
          "base_uri": "https://localhost:8080/"
        },
        "id": "gDk-_0zjM-no",
        "outputId": "0e66cfa2-320a-4f97-916d-d46cd1e4509d"
      },
      "execution_count": 30,
      "outputs": [
        {
          "output_type": "stream",
          "name": "stdout",
          "text": [
            "배열의 최댓값을 구합니다.\n",
            "주의: \"end\"를 입력하면 종료합니다.\n",
            "x[0]값을 입력하세요.:15\n",
            "x[1]값을 입력하세요.:72\n",
            "x[2]값을 입력하세요.:64\n",
            "x[3]값을 입력하세요.:7\n",
            "x[4]값을 입력하세요.:End\n",
            "4개를 입력했습니다.\n",
            "최댓값은 72입니다.\n"
          ]
        }
      ]
    }
  ]
}