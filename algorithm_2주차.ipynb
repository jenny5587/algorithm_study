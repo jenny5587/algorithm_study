{
  "nbformat": 4,
  "nbformat_minor": 0,
  "metadata": {
    "colab": {
      "name": "algorithm_2주차.ipynb",
      "provenance": [],
      "collapsed_sections": [],
      "authorship_tag": "ABX9TyO3VLjj4Cik3L3f/O9moMx2",
      "include_colab_link": true
    },
    "kernelspec": {
      "name": "python3",
      "display_name": "Python 3"
    },
    "language_info": {
      "name": "python"
    }
  },
  "cells": [
    {
      "cell_type": "markdown",
      "metadata": {
        "id": "view-in-github",
        "colab_type": "text"
      },
      "source": [
        "<a href=\"https://colab.research.google.com/github/joungminhee/Algorithm_study/blob/master/algorithm_2%EC%A3%BC%EC%B0%A8.ipynb\" target=\"_parent\"><img src=\"https://colab.research.google.com/assets/colab-badge.svg\" alt=\"Open In Colab\"/></a>"
      ]
    },
    {
      "cell_type": "markdown",
      "source": [
        "# 기본 자료구조와 배열"
      ],
      "metadata": {
        "id": "V_wTjGs6AtcQ"
      }
    },
    {
      "cell_type": "code",
      "execution_count": 1,
      "metadata": {
        "id": "z1HoW3C0R194"
      },
      "outputs": [],
      "source": [
        "# 리스트는 쉼표가 맨 마지막 원소 뒤에 쓸 수 있다.\n",
        "list = [1,2,3,]"
      ]
    },
    {
      "cell_type": "code",
      "source": [
        "# 튜플도 쉼표가 맨 마지막 원소 뒤에 올 수 있으며,\n",
        "# 결합 연산자()를 생략할 수 있다.\n",
        "tuple=1,2,3,"
      ],
      "metadata": {
        "id": "0C0jQ0HE_zS6"
      },
      "execution_count": 2,
      "outputs": []
    },
    {
      "cell_type": "code",
      "source": [
        "n=12\n",
        "id(n)\n",
        "n=13\n",
        "id(n)"
      ],
      "metadata": {
        "colab": {
          "base_uri": "https://localhost:8080/"
        },
        "id": "N19huPxHEaCo",
        "outputId": "be865a9f-3916-42b8-bc87-ce236d140d49"
      },
      "execution_count": 3,
      "outputs": [
        {
          "output_type": "execute_result",
          "data": {
            "text/plain": [
              "11256448"
            ]
          },
          "metadata": {},
          "execution_count": 3
        }
      ]
    },
    {
      "cell_type": "code",
      "source": [
        "a = \"Pithon\"\n",
        "a[1]"
      ],
      "metadata": {
        "colab": {
          "base_uri": "https://localhost:8080/",
          "height": 36
        },
        "id": "LpxXvjR5FZV1",
        "outputId": "f71c1c50-ac66-49a4-8e7e-a72e25f31f4b"
      },
      "execution_count": 4,
      "outputs": [
        {
          "output_type": "execute_result",
          "data": {
            "text/plain": [
              "'i'"
            ],
            "application/vnd.google.colaboratory.intrinsic+json": {
              "type": "string"
            }
          },
          "metadata": {},
          "execution_count": 4
        }
      ]
    },
    {
      "cell_type": "code",
      "source": [
        "a[1] = 'y'"
      ],
      "metadata": {
        "colab": {
          "base_uri": "https://localhost:8080/",
          "height": 170
        },
        "id": "gWBVjlr-FfXN",
        "outputId": "9b6029ea-548e-4052-e392-e8373631594b"
      },
      "execution_count": 5,
      "outputs": [
        {
          "output_type": "error",
          "ename": "TypeError",
          "evalue": "ignored",
          "traceback": [
            "\u001b[0;31m---------------------------------------------------------------------------\u001b[0m",
            "\u001b[0;31mTypeError\u001b[0m                                 Traceback (most recent call last)",
            "\u001b[0;32m<ipython-input-5-d5923cc78d10>\u001b[0m in \u001b[0;36m<module>\u001b[0;34m()\u001b[0m\n\u001b[0;32m----> 1\u001b[0;31m \u001b[0ma\u001b[0m\u001b[0;34m[\u001b[0m\u001b[0;36m1\u001b[0m\u001b[0;34m]\u001b[0m \u001b[0;34m=\u001b[0m \u001b[0;34m'y'\u001b[0m\u001b[0;34m\u001b[0m\u001b[0;34m\u001b[0m\u001b[0m\n\u001b[0m",
            "\u001b[0;31mTypeError\u001b[0m: 'str' object does not support item assignment"
          ]
        }
      ]
    },
    {
      "cell_type": "code",
      "source": [
        "n = 12\n",
        "n[0] = 2"
      ],
      "metadata": {
        "colab": {
          "base_uri": "https://localhost:8080/",
          "height": 188
        },
        "id": "y-PPER16Fnw0",
        "outputId": "f3b1ac66-81fb-41c9-9619-1884c98397e9"
      },
      "execution_count": 6,
      "outputs": [
        {
          "output_type": "error",
          "ename": "TypeError",
          "evalue": "ignored",
          "traceback": [
            "\u001b[0;31m---------------------------------------------------------------------------\u001b[0m",
            "\u001b[0;31mTypeError\u001b[0m                                 Traceback (most recent call last)",
            "\u001b[0;32m<ipython-input-6-60043c281097>\u001b[0m in \u001b[0;36m<module>\u001b[0;34m()\u001b[0m\n\u001b[1;32m      1\u001b[0m \u001b[0mn\u001b[0m \u001b[0;34m=\u001b[0m \u001b[0;36m12\u001b[0m\u001b[0;34m\u001b[0m\u001b[0;34m\u001b[0m\u001b[0m\n\u001b[0;32m----> 2\u001b[0;31m \u001b[0mn\u001b[0m\u001b[0;34m[\u001b[0m\u001b[0;36m0\u001b[0m\u001b[0;34m]\u001b[0m \u001b[0;34m=\u001b[0m \u001b[0;36m2\u001b[0m\u001b[0;34m\u001b[0m\u001b[0;34m\u001b[0m\u001b[0m\n\u001b[0m",
            "\u001b[0;31mTypeError\u001b[0m: 'int' object does not support item assignment"
          ]
        }
      ]
    },
    {
      "cell_type": "markdown",
      "source": [
        "* 1) a 변수에 \"Pithon\" 문자열을 대입하고 a[1]의 값이 i니까 a[1]을 y로 바꾸어 준다 -> 값을 변경할 수 없다.\n",
        "* 2) 정수를 나타내는 int형도 값을 변경할 수 없다.\n",
        "* 왜냐하면 문자열의 요솟값과 정수값은 바꿀 수 있는 값이 아니기 때문이다 (그래서 immutable한 자료형이라고도 부른다)."
      ],
      "metadata": {
        "id": "IxcZACGzFYHo"
      }
    },
    {
      "cell_type": "markdown",
      "source": [
        "* tuple의 좌변에는 인덱스식과 슬라이스식이 올 수 없다."
      ],
      "metadata": {
        "id": "J73Nh3h9JHdX"
      }
    },
    {
      "cell_type": "code",
      "source": [
        "# 시퀀스 원소의 최댓값 출력하기\n",
        "\n",
        "from typing import Any,Sequence\n",
        "\n",
        "def max_of(a: Sequence) -> Any:\n",
        "# 매개변수 a의 자료형은 Sequence, 반환하는 것은 임의의 자료인 Any형\n",
        "    maximum = a[0]\n",
        "    for i in range(1, len(a)):\n",
        "        if a[i] > maximum:\n",
        "            maximum = a[i]\n",
        "    return maximum\n",
        "    # def 함수정의할때 return\n",
        "\n",
        "if __name__ == '__main__':\n",
        "    print('배열의 최댓값을 구합니다.')\n",
        "    num = int(input('원소 수를 입력하세요.:'))\n",
        "    x = [None]* num\n",
        "\n",
        "    for i in range(num):\n",
        "        x[i] = int(input(f'x[{i}]값을 입력하세요.:'))\n",
        "\n",
        "    print(f'최댓값은 {max_of(x)}입니다.')"
      ],
      "metadata": {
        "colab": {
          "base_uri": "https://localhost:8080/"
        },
        "id": "HbEOeiTvG5jm",
        "outputId": "df3899c2-68ef-4ced-96e4-63657ce744e5"
      },
      "execution_count": 7,
      "outputs": [
        {
          "output_type": "stream",
          "name": "stdout",
          "text": [
            "배열의 최댓값을 구합니다.\n",
            "원소 수를 입력하세요.:5\n",
            "x[0]값을 입력하세요.:4\n",
            "x[1]값을 입력하세요.:3\n",
            "x[2]값을 입력하세요.:2\n",
            "x[3]값을 입력하세요.:1\n",
            "x[4]값을 입력하세요.:4\n",
            "최댓값은 4입니다.\n"
          ]
        }
      ]
    },
    {
      "cell_type": "code",
      "source": [
        "# 배열 원소의 최댓값을 구해서 출력하기(원솟값을 입력받음)\n",
        "\n",
        "# from max import max_of\n",
        "\n",
        "print('배열의 최댓값을 구합니다.')\n",
        "print('주의: \"End\"를 입력하면 종료합니다.')\n",
        "\n",
        "number = 0\n",
        "x = []\n",
        "\n",
        "while True:\n",
        "    s = (input(f'x[{number}]값을 입력하세요.:'))\n",
        "    if s == 'End':\n",
        "        break\n",
        "    x.append(int(s))\n",
        "    number += 1\n",
        "\n",
        "print(f'{number}개를 입력했습니다.')\n",
        "print(f'최댓값은 {max_of(x)}입니다.')"
      ],
      "metadata": {
        "colab": {
          "base_uri": "https://localhost:8080/"
        },
        "id": "gDk-_0zjM-no",
        "outputId": "441e6f49-7e15-43e8-c86e-71843c1285a0"
      },
      "execution_count": 10,
      "outputs": [
        {
          "output_type": "stream",
          "name": "stdout",
          "text": [
            "배열의 최댓값을 구합니다.\n",
            "주의: \"end\"를 입력하면 종료합니다.\n",
            "x[0]값을 입력하세요.:4\n",
            "x[1]값을 입력하세요.:3\n",
            "x[2]값을 입력하세요.:1\n",
            "x[3]값을 입력하세요.:End\n",
            "3개를 입력했습니다.\n",
            "최댓값은 4입니다.\n"
          ]
        }
      ]
    },
    {
      "cell_type": "code",
      "source": [
        "# 배열 원소의 최댓값을 구해서 출력하기(원솟값을 난수로 생성)\n",
        "\n",
        "import random\n",
        "\n",
        "print('난수의 최댓값을 구합니다.')\n",
        "num = int(input('난수의 개수를 입력하세요.:'))\n",
        "lo= int(input('난수의 최솟값을 입력하세요.:'))\n",
        "hi= int(input('난수의 최댓값을 입력하세요.:'))\n",
        "\n",
        "x= [None]* num\n",
        "\n",
        "for i in range(num):\n",
        "    x[i] = random.randint(lo,hi)\n",
        "\n",
        "print(f'{x}')\n",
        "print(f'이 가운데 최댓값은 {max_of(x)}입니다.')"
      ],
      "metadata": {
        "id": "kpH7fWeMR0MY",
        "colab": {
          "base_uri": "https://localhost:8080/"
        },
        "outputId": "a150cd4a-d95e-4df7-867c-9e352aa92092"
      },
      "execution_count": 12,
      "outputs": [
        {
          "output_type": "stream",
          "name": "stdout",
          "text": [
            "난수의 최댓값을 구합니다.\n",
            "난수의 개수를 입력하세요.:5\n",
            "난수의 최솟값을 입력하세요.:10\n",
            "난수의 최댓값을 입력하세요.:99\n",
            "[81, 37, 82, 27, 88]\n",
            "이 가운데 최댓값은 88입니다.\n"
          ]
        }
      ]
    },
    {
      "cell_type": "code",
      "source": [
        "# 각 배열 원소의 최댓값을 구해서 출력하기(튜플,문자열,문자열리스트)\n",
        "\n",
        "t = (4,7,5.6,2,3.14,1)\n",
        "s = 'string'\n",
        "a = ['DTS','AAC','FLAC']\n",
        "\n",
        "print(f'{t}의 최댓값은 {max_of(t)}입니다.')\n",
        "print(f'{s}의 최댓값은 {max_of(s)}입니다.')\n",
        "print(f'{a}의 최댓값은 {max_of(a)}입니다.')"
      ],
      "metadata": {
        "colab": {
          "base_uri": "https://localhost:8080/"
        },
        "id": "SmHcGafwtcVB",
        "outputId": "1e1b4c79-5499-4551-f97b-0a0e1ea2a59a"
      },
      "execution_count": 13,
      "outputs": [
        {
          "output_type": "stream",
          "name": "stdout",
          "text": [
            "(4, 7, 5.6, 2, 3.14, 1)의 최댓값은 7입니다.\n",
            "string의 최댓값은 t입니다.\n",
            "['DTS', 'AAC', 'FLAC']의 최댓값은 FLAC입니다.\n"
          ]
        }
      ]
    },
    {
      "cell_type": "code",
      "source": [
        "# 리스트의 모든 원소를 enumerate()함수로 스캔하기(1부터 카운트)\n",
        "\n",
        "x = ['John','Georage','Paul','Ringo']\n",
        "\n",
        "for i, name in enumerate(x,1):\n",
        "    print(f'{i} 번째 = {name}')"
      ],
      "metadata": {
        "colab": {
          "base_uri": "https://localhost:8080/"
        },
        "id": "pLPBivw9u4-P",
        "outputId": "1b62a4f9-8998-4cd3-ee4d-063c3327863f"
      },
      "execution_count": 14,
      "outputs": [
        {
          "output_type": "stream",
          "name": "stdout",
          "text": [
            "1 번째 = John\n",
            "2 번째 = Georage\n",
            "3 번째 = Paul\n",
            "4 번째 = Ringo\n"
          ]
        }
      ]
    },
    {
      "cell_type": "markdown",
      "source": [
        "## 뮤터블(mutable)\n",
        "- 변경이 가능한 객체\n",
        "\n",
        "- 생성 후 자유롭게 값을 변경, 추가, 삭제 등이 가능하다.\n",
        "\n",
        "- list, set, dictionary 등\n",
        "\n",
        "- 변수의 값을 변경하면 객체 자체를 업데이트 한다. (값 변경 -> 할당된 메모리에 전달)\n",
        "\n",
        "- call by reference(참조에 의한 호출)\n",
        "\n",
        " \n",
        "\n",
        "이뮤터블(immutable)\n",
        "- 변경이 불가능한 객체\n",
        "\n",
        "- 생성 후 값 변경, 추가, 삭제 등이 불가능하다.\n",
        "\n",
        "- 숫자, string, tuple 등\n",
        "\n",
        "- 변수의 값을 변경하면 다른 객체를 생성하고 그 객체에 대한 참조로 업데이트 된다.\n",
        "\n",
        "  (값 변경 -> 새로운 메모리에 전달)\n",
        "\n",
        "- call by value(값에 의한 호출)"
      ],
      "metadata": {
        "id": "DGDZuS2YxV_b"
      }
    },
    {
      "cell_type": "code",
      "source": [
        "# 뮤터블 시퀀스 원소를 역순으로 정렬\n",
        "from typing import Any, MutableSequence\n",
        "\n",
        "def reverse_array(a:MutableSequence) -> None:\n",
        "    n= len(a)\n",
        "    for i in range( n //2):\n",
        "        a[i], a[n-i-1] =a[n-i-1], a[i]\n",
        "\n",
        "if __name__ == '__main__':\n",
        "    print('배열 원소를 역순으로 정렬합니다.')\n",
        "    num = int(input('원소 수를 입력하세요.:'))\n",
        "    x = [None]*num\n",
        "\n",
        "    for i in range(num):\n",
        "        x[i] = int(input(f'x[{i}]값을 입력하세요.:'))\n",
        "\n",
        "    reverse_array(x)\n",
        "    print('배열 원소를 역순으로 정렬했습니다.')\n",
        "    for i in range(num):\n",
        "        print(f'x[{i}]= {x[i]}')"
      ],
      "metadata": {
        "colab": {
          "base_uri": "https://localhost:8080/"
        },
        "id": "3N04WHOtw6Uq",
        "outputId": "2e3cf869-df90-41ac-c007-4fd61878dc4b"
      },
      "execution_count": 16,
      "outputs": [
        {
          "output_type": "stream",
          "name": "stdout",
          "text": [
            "배열 원소를 역순으로 정렬합니다.\n",
            "원소 수를 입력하세요.:7\n",
            "x[0]값을 입력하세요.:2\n",
            "x[1]값을 입력하세요.:5\n",
            "x[2]값을 입력하세요.:1\n",
            "x[3]값을 입력하세요.:3\n",
            "x[4]값을 입력하세요.:9\n",
            "x[5]값을 입력하세요.:6\n",
            "x[6]값을 입력하세요.:7\n",
            "배열 원소를 역순으로 정렬했습니다.\n",
            "x[0]= 7\n",
            "x[1]= 6\n",
            "x[2]= 9\n",
            "x[3]= 3\n",
            "x[4]= 1\n",
            "x[5]= 5\n",
            "x[6]= 2\n"
          ]
        }
      ]
    },
    {
      "cell_type": "code",
      "source": [
        "# 10진수 정숫값을 입력받아 2~36진수로 변환하여 출력하기\n",
        "\n",
        "def card_conv(x:int, r:int) -> str:\n",
        "    d= ''\n",
        "    dchar = '0123456789ABCDEFGHIJKLMNOPQRSTUVWXYZ'\n",
        "\n",
        "    while x> 0:\n",
        "        d += dchar[x % r]\n",
        "        x //= r\n",
        "\n",
        "    return d[::-1]"
      ],
      "metadata": {
        "id": "jRSJaW0F4WQy"
      },
      "execution_count": 18,
      "outputs": []
    },
    {
      "cell_type": "code",
      "source": [
        "# 10진수를 n진수로 변환합니다\n",
        "\n",
        "if __name__ == '__main__':\n",
        "    print('10진수를 n진수로 변환합니다.')\n",
        "\n",
        "    while True:\n",
        "        while True:\n",
        "            no = int(input('변환할 값으로 음이 아닌 정수를 입력하세요.'))\n",
        "            if no > 0 :\n",
        "                break\n",
        "\n",
        "        while True:\n",
        "            cd = int(input('어떤 진수로 변환할까요?:'))\n",
        "            if 2 <= cd <= 36:\n",
        "                break\n",
        "\n",
        "        print(f'{cd}진수로는 {card_conv(no,cd)}입니다.')\n",
        "\n",
        "        retry = input('한번 더 변환할까요? (y=yes, n=no)')\n",
        "        if retry in {'n','no'}:\n",
        "            break"
      ],
      "metadata": {
        "colab": {
          "base_uri": "https://localhost:8080/"
        },
        "id": "qqN87PXk5k5u",
        "outputId": "ea47cfd0-b0e4-488d-9be7-12f1b792282c"
      },
      "execution_count": 22,
      "outputs": [
        {
          "name": "stdout",
          "output_type": "stream",
          "text": [
            "10진수를 n진수로 변환합니다.\n",
            "변환할 값으로 음이 아닌 정수를 입력하세요.-2\n",
            "변환할 값으로 음이 아닌 정수를 입력하세요.4\n",
            "어떤 진수로 변환할까요?:10\n",
            "10진수로는 4입니다.\n",
            "한번 더 변환할까요? (y=yes, n=no)n\n"
          ]
        }
      ]
    },
    {
      "cell_type": "code",
      "source": [
        "# 10진수 정숫값을 입력받아 2~36진수로 변환하여 출력하기\n",
        "\n",
        "def card_conv(x:int, r:int) -> str:\n",
        "    d= ''\n",
        "    dchar = '0123456789ABCDEFGHIJKLMNOPQRSTUVWXYZ'\n",
        "    n = len(str(x))\n",
        "\n",
        "    print(f'{r:2} | {x:{n}d}')\n",
        "    while x> 0:\n",
        "        print(' +' + (n+2)*'-')\n",
        "\n",
        "        if x//r:\n",
        "            print(f'{r:2} | {x//r:{n}d} --{x%r}')\n",
        "        else:\n",
        "            print(f'{x//r:{n}d} --{x%r}')\n",
        "        d += dchar[x % r]\n",
        "        x //= r\n",
        "\n",
        "    return d[::-1]"
      ],
      "metadata": {
        "id": "xqibBLkR7x4I"
      },
      "execution_count": 23,
      "outputs": []
    },
    {
      "cell_type": "code",
      "source": [
        "card_conv(29,2)"
      ],
      "metadata": {
        "colab": {
          "base_uri": "https://localhost:8080/",
          "height": 233
        },
        "id": "RGBRhsEr7xwZ",
        "outputId": "da3e2cb6-5a0c-4705-e854-343065549a9d"
      },
      "execution_count": 24,
      "outputs": [
        {
          "output_type": "stream",
          "name": "stdout",
          "text": [
            " 2 | 29\n",
            " +----\n",
            " 2 | 14 --1\n",
            " +----\n",
            " 2 |  7 --0\n",
            " +----\n",
            " 2 |  3 --1\n",
            " +----\n",
            " 2 |  1 --1\n",
            " +----\n",
            " 0 --1\n"
          ]
        },
        {
          "output_type": "execute_result",
          "data": {
            "text/plain": [
              "'11101'"
            ],
            "application/vnd.google.colaboratory.intrinsic+json": {
              "type": "string"
            }
          },
          "metadata": {},
          "execution_count": 24
        }
      ]
    }
  ]
}