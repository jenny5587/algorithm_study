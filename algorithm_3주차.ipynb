{
  "nbformat": 4,
  "nbformat_minor": 0,
  "metadata": {
    "colab": {
      "name": "algorithm_3주차.ipynb",
      "provenance": [],
      "collapsed_sections": [],
      "authorship_tag": "ABX9TyPAjGYd9BFPsmnwVEeb3yup"
    },
    "kernelspec": {
      "name": "python3",
      "display_name": "Python 3"
    },
    "language_info": {
      "name": "python"
    }
  },
  "cells": [
    {
      "cell_type": "markdown",
      "source": [
        "# 선형검색"
      ],
      "metadata": {
        "id": "CVLm9NrpXNpz"
      }
    },
    {
      "cell_type": "markdown",
      "source": [
        "* 맨 앞부터 스캔하여 순서대로 검색하는 알고리즘"
      ],
      "metadata": {
        "id": "HTALzGYKXP8S"
      }
    },
    {
      "cell_type": "code",
      "execution_count": null,
      "metadata": {
        "id": "22iGM3LIXH5d"
      },
      "outputs": [],
      "source": [
        "# for문으로 작성한 선형 검색 알고리즘(해당 인덱스 찾기)\n",
        "\n",
        "for typing import Any, Sequence\n",
        "\n",
        "def seq_search(a:sequence, key:any) ->int:\n",
        "    for i in range(len(a)):\n",
        "        if a[i] ==key:\n",
        "            return i\n",
        "    return -1\n",
        "\n",
        "if __name__ == '__main__':\n",
        "    num = int(input('원소 수를 입력하세요.: '))  # num 값을 입력\n",
        "    x = [None] * num                           # 원소 수가 num인 배열을 생성\n",
        "\n",
        "    for i in range(num):\n",
        "        x[i] = int(input(f'x[{i}]: '))\n",
        "\n",
        "    ky = int(input('검색할 값을 입력하세요.: '))  # 검색할 키 ky를 입력받음\n",
        "\n",
        "    idx = seq_search(x, ky)                     # ky와 값이 같은 요소를 x에서 검색\n",
        "\n",
        "    if idx == -1:\n",
        "        print('검색 값을 갖는 요소가 존재하지 않습니다.')\n",
        "    else:\n",
        "        print(f'검색 값은 x[{idx}]에 있습니다.')"
      ]
    }
  ]
}