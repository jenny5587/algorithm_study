{
  "nbformat": 4,
  "nbformat_minor": 0,
  "metadata": {
    "colab": {
      "name": "algorithm_3주차.ipynb",
      "provenance": [],
      "collapsed_sections": [],
      "authorship_tag": "ABX9TyNjGvTaMBWDVXahgdi3s2Z9"
    },
    "kernelspec": {
      "name": "python3",
      "display_name": "Python 3"
    },
    "language_info": {
      "name": "python"
    }
  },
  "cells": [
    {
      "cell_type": "markdown",
      "source": [
        "# 선형검색"
      ],
      "metadata": {
        "id": "CVLm9NrpXNpz"
      }
    },
    {
      "cell_type": "markdown",
      "source": [
        "* 맨 앞부터 스캔하여 순서대로 검색하는 알고리즘"
      ],
      "metadata": {
        "id": "HTALzGYKXP8S"
      }
    },
    {
      "cell_type": "code",
      "execution_count": null,
      "metadata": {
        "id": "22iGM3LIXH5d"
      },
      "outputs": [],
      "source": [
        "# for문으로 작성한 선형 검색 알고리즘(해당 인덱스 찾기)\n",
        "\n",
        "for typing import Any, Sequence\n",
        "\n",
        "def seq_search(a:sequence, key:any) ->int:\n",
        "    for i in range(len(a)):\n",
        "        if a[i] ==key:\n",
        "            return i\n",
        "    return -1\n",
        "\n",
        "if __name__ == '__main__':\n",
        "    num = int(input('원소 수를 입력하세요.: '))  # num 값을 입력\n",
        "    x = [None] * num                           # 원소 수가 num인 배열을 생성\n",
        "\n",
        "    for i in range(num):\n",
        "        x[i] = int(input(f'x[{i}]: '))\n",
        "\n",
        "    ky = int(input('검색할 값을 입력하세요.: '))  # 검색할 키 ky를 입력받음\n",
        "\n",
        "    idx = seq_search(x, ky)                     # ky와 값이 같은 요소를 x에서 검색\n",
        "\n",
        "    if idx == -1:\n",
        "        print('검색 값을 갖는 요소가 존재하지 않습니다.')\n",
        "    else:\n",
        "        print(f'검색 값은 x[{idx}]에 있습니다.')"
      ]
    },
    {
      "cell_type": "markdown",
      "source": [
        "# 보초법\n",
        "* 검색하고자 하는 키값을 배열의 맨 끝에 저장하는 것을 보초라고 한다.\n",
        "* 보초는 반복을 종료하는 판단 횟수를 줄이는 역할을 하며, 보초까지 스캔하는 과정에서 \n",
        "선형검색의 종료조건이 줄어든다."
      ],
      "metadata": {
        "id": "7cSipDRDYhCX"
      }
    },
    {
      "cell_type": "code",
      "source": [
        "from typing import Any, Sequence\n",
        "import copy\n",
        "\n",
        "def seq_search(seq: Sequence, key: Any) -> int:\n",
        "    \"\"\"시퀀스 seq에서 key와 일치하는 원소를 선형 검색(보초법)\"\"\"\n",
        "    a = copy.deepcopy(seq)  # seq를 복사\n",
        "    a.append(key)           # 보초 key를 추가\n",
        " \n",
        "    i = 0\n",
        "    while True:\n",
        "        if a[i] == key: \n",
        "            break  # 검색에 성공하면 while 문을 종료\n",
        "        i += 1\n",
        "    return -1 if i == len(seq) else i\n",
        "\n",
        "if __name__ == '__main__':\n",
        "    num = int(input('원소 수를 입력하세요.: '))  # num 값을 입력\n",
        "    x = [None] * num                           # 원소 수가 num인 배열을 생성\n",
        "\n",
        "    for i in range(num):\n",
        "        x[i] = int(input(f'x[{i}]: '))\n",
        "\n",
        "    ky = int(input('검색할 값을 입력하세요.: '))  # 검색할 키 ky를 입력받기\n",
        "\n",
        "    idx = seq_search(x, ky)                     # ky값과 같은 원소를 x에서 검색\n",
        "\n",
        "    if idx == -1:\n",
        "         print('검색값을 갖는 원소가 존재하지 않습니다.')\n",
        "    else:\n",
        "        print(f'검색값은 x[{idx}]에 있습니다.')"
      ],
      "metadata": {
        "id": "XT4huwJzYyWR"
      },
      "execution_count": null,
      "outputs": []
    },
    {
      "cell_type": "markdown",
      "source": [
        "# 이진검색"
      ],
      "metadata": {
        "id": "wEFiDXaKZFs8"
      }
    },
    {
      "cell_type": "markdown",
      "source": [
        "* 검색범위의 중간값을 확인하고 검색범위를 반씩 줄여나가는 것을 반복하는 방법"
      ],
      "metadata": {
        "id": "y1EskvdEWbr0"
      }
    },
    {
      "cell_type": "code",
      "source": [
        "from typing import Any, Sequence\n",
        "\n",
        "def bin_search(a:Sequence, key:Any) ->int:\n",
        "    pl=0\n",
        "    pr = len(a)-1\n",
        "\n",
        "    while True:\n",
        "        pc = (pl+pr)//2\n",
        "        if a[pc] ==key:\n",
        "            return pc\n",
        "        elif a[pc]<key:\n",
        "            pl=pc+1\n",
        "        else:\n",
        "            pr = pc-1\n",
        "        if pl > pr:\n",
        "            break\n",
        "            return -1\n",
        "\n",
        "if __name__ =='__main__':\n",
        "    num = int(input('원소 수를 입력하세요.:'))\n",
        "    x= [None]*num\n",
        "\n",
        "    print('배열 데이터를 오름차순으로 입력하세요.')\n",
        "\n",
        "    x[0] = int(input('x[0]:'))\n",
        "\n",
        "    for i in range(1,num):\n",
        "        while True:\n",
        "            x[i]=int(input(f'x[{i}]: '))\n",
        "            if x[i] >= x[i-1]:\n",
        "                break\n",
        "\n",
        "    ky = int(input('검색할 값을 입력하세요.:'))\n",
        "\n",
        "    idx=bin_search(x,ky)\n",
        "\n",
        "    if idx == -1:\n",
        "        print('검색값을 갖는 원소가 존재하지 않습니다.')\n",
        "    else:\n",
        "        print(f'검색값은 x[{idx}]에 있습니다.')"
      ],
      "metadata": {
        "colab": {
          "base_uri": "https://localhost:8080/"
        },
        "id": "Pw6KGwwrXX1l",
        "outputId": "8e474f78-de7a-464e-c8f6-dab080678bb4"
      },
      "execution_count": 6,
      "outputs": [
        {
          "output_type": "stream",
          "name": "stdout",
          "text": [
            "원소 수를 입력하세요.:7\n",
            "배열 데이터를 오름차순으로 입력하세요.\n",
            "x[0]:1\n",
            "x[1]: 2\n",
            "x[2]: 3\n",
            "x[3]: 4\n",
            "x[4]: 5\n",
            "x[5]: 7\n",
            "x[6]: 8\n",
            "검색할 값을 입력하세요.:5\n",
            "검색값은 x[4]에 있습니다.\n"
          ]
        }
      ]
    }
  ]
}