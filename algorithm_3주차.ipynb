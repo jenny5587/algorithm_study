{
  "nbformat": 4,
  "nbformat_minor": 0,
  "metadata": {
    "colab": {
      "name": "algorithm_3주차.ipynb",
      "provenance": [],
      "collapsed_sections": [],
      "authorship_tag": "ABX9TyPgvdb1UAKt5Da5eU2DobyM"
    },
    "kernelspec": {
      "name": "python3",
      "display_name": "Python 3"
    },
    "language_info": {
      "name": "python"
    }
  },
  "cells": [
    {
      "cell_type": "markdown",
      "source": [
        "# 선형검색"
      ],
      "metadata": {
        "id": "CVLm9NrpXNpz"
      }
    },
    {
      "cell_type": "markdown",
      "source": [
        "* 맨 앞부터 스캔하여 순서대로 검색하는 알고리즘"
      ],
      "metadata": {
        "id": "HTALzGYKXP8S"
      }
    },
    {
      "cell_type": "code",
      "execution_count": null,
      "metadata": {
        "id": "22iGM3LIXH5d"
      },
      "outputs": [],
      "source": [
        "# for문으로 작성한 선형 검색 알고리즘(해당 인덱스 찾기)\n",
        "\n",
        "for typing import Any, Sequence\n",
        "\n",
        "def seq_search(a:Sequence, key:any) ->int:\n",
        "    for i in range(len(a)):\n",
        "        if a[i] ==key:\n",
        "            return i\n",
        "    return -1\n",
        "\n",
        "if __name__ == '__main__':\n",
        "    num = int(input('원소 수를 입력하세요.: '))  # num 값을 입력\n",
        "    x = [None] * num                           # 원소 수가 num인 배열을 생성\n",
        "\n",
        "    for i in range(num):\n",
        "        x[i] = int(input(f'x[{i}]: '))\n",
        "\n",
        "    ky = int(input('검색할 값을 입력하세요.: '))  # 검색할 키 ky를 입력받음\n",
        "\n",
        "    idx = seq_search(x, ky)                     # ky와 값이 같은 요소를 x에서 검색\n",
        "\n",
        "    if idx == -1:\n",
        "        print('검색 값을 갖는 요소가 존재하지 않습니다.')\n",
        "    else:\n",
        "        print(f'검색 값은 x[{idx}]에 있습니다.')"
      ]
    },
    {
      "cell_type": "markdown",
      "source": [
        "# 보초법\n",
        "* 검색하고자 하는 키값을 배열의 맨 끝에 저장하는 것을 보초라고 한다.\n",
        "* 보초는 반복을 종료하는 판단 횟수를 줄이는 역할을 하며, 보초까지 스캔하는 과정에서 \n",
        "선형검색의 종료조건이 줄어든다."
      ],
      "metadata": {
        "id": "7cSipDRDYhCX"
      }
    },
    {
      "cell_type": "code",
      "source": [
        "from typing import Any, Sequence\n",
        "import copy\n",
        "\n",
        "def seq_search(seq: Sequence, key: Any) -> int:\n",
        "    \"\"\"시퀀스 seq에서 key와 일치하는 원소를 선형 검색(보초법)\"\"\"\n",
        "    a = copy.deepcopy(seq)  # seq를 복사\n",
        "    a.append(key)           # 보초 key를 추가\n",
        " \n",
        "    i = 0\n",
        "    while True:\n",
        "        if a[i] == key: \n",
        "            break  # 검색에 성공하면 while 문을 종료\n",
        "        i += 1\n",
        "    return -1 if i == len(seq) else i\n",
        "\n",
        "if __name__ == '__main__':\n",
        "    num = int(input('원소 수를 입력하세요.: '))  # num 값을 입력\n",
        "    x = [None] * num                           # 원소 수가 num인 배열을 생성\n",
        "\n",
        "    for i in range(num):\n",
        "        x[i] = int(input(f'x[{i}]: '))\n",
        "\n",
        "    ky = int(input('검색할 값을 입력하세요.: '))  # 검색할 키 ky를 입력받기\n",
        "\n",
        "    idx = seq_search(x, ky)                     # ky값과 같은 원소를 x에서 검색\n",
        "\n",
        "    if idx == -1:\n",
        "         print('검색값을 갖는 원소가 존재하지 않습니다.')\n",
        "    else:\n",
        "        print(f'검색값은 x[{idx}]에 있습니다.')"
      ],
      "metadata": {
        "id": "XT4huwJzYyWR"
      },
      "execution_count": null,
      "outputs": []
    },
    {
      "cell_type": "markdown",
      "source": [
        "# 이진검색"
      ],
      "metadata": {
        "id": "wEFiDXaKZFs8"
      }
    },
    {
      "cell_type": "markdown",
      "source": [
        "* 검색범위의 중간값을 확인하고 검색범위를 반씩 줄여나가는 것을 반복하는 방법"
      ],
      "metadata": {
        "id": "y1EskvdEWbr0"
      }
    },
    {
      "cell_type": "code",
      "source": [
        "from typing import Any, Sequence\n",
        "\n",
        "def bin_search(a:Sequence, key:Any) ->int:\n",
        "    pl=0\n",
        "    pr = len(a)-1\n",
        "\n",
        "    while True:\n",
        "        pc = (pl+pr)//2\n",
        "        if a[pc] ==key:\n",
        "            return pc\n",
        "        elif a[pc]<key:\n",
        "            pl=pc+1\n",
        "        else:\n",
        "            pr = pc-1\n",
        "        if pl > pr:\n",
        "            break\n",
        "            return -1\n",
        "\n",
        "if __name__ =='__main__':\n",
        "    num = int(input('원소 수를 입력하세요.:'))\n",
        "    x= [None]*num\n",
        "\n",
        "    print('배열 데이터를 오름차순으로 입력하세요.')\n",
        "\n",
        "    x[0] = int(input('x[0]:'))\n",
        "\n",
        "    for i in range(1,num):\n",
        "        while True:\n",
        "            x[i]=int(input(f'x[{i}]: '))\n",
        "            if x[i] >= x[i-1]:\n",
        "                break\n",
        "\n",
        "    ky = int(input('검색할 값을 입력하세요.:'))\n",
        "\n",
        "    idx=bin_search(x,ky)\n",
        "\n",
        "    if idx == -1:\n",
        "        print('검색값을 갖는 원소가 존재하지 않습니다.')\n",
        "    else:\n",
        "        print(f'검색값은 x[{idx}]에 있습니다.')"
      ],
      "metadata": {
        "colab": {
          "base_uri": "https://localhost:8080/"
        },
        "id": "Pw6KGwwrXX1l",
        "outputId": "8e474f78-de7a-464e-c8f6-dab080678bb4"
      },
      "execution_count": null,
      "outputs": [
        {
          "output_type": "stream",
          "name": "stdout",
          "text": [
            "원소 수를 입력하세요.:7\n",
            "배열 데이터를 오름차순으로 입력하세요.\n",
            "x[0]:1\n",
            "x[1]: 2\n",
            "x[2]: 3\n",
            "x[3]: 4\n",
            "x[4]: 5\n",
            "x[5]: 7\n",
            "x[6]: 8\n",
            "검색할 값을 입력하세요.:5\n",
            "검색값은 x[4]에 있습니다.\n"
          ]
        }
      ]
    },
    {
      "cell_type": "markdown",
      "source": [
        "# 복잡도\n",
        "\n",
        "* 시간 복잡도 : 실행하는 데 필요한 시간\n",
        "* 공간 복잡도 : 메모리와 파일 공간이 필요한 공간"
      ],
      "metadata": {
        "id": "zO4w9zUAeGYV"
      }
    },
    {
      "cell_type": "code",
      "source": [
        "# 선형 검색의 시간 복잡도\n",
        "\n",
        "def seq_search(a:Sequence, key:any) ->int:\n",
        "    for i in range(len(a)):\n",
        "        if a[i] ==key:\n",
        "            return i\n",
        "    return -1"
      ],
      "metadata": {
        "id": "Ln0ScVdBeSRg"
      },
      "execution_count": null,
      "outputs": []
    },
    {
      "cell_type": "markdown",
      "source": [
        "* 1번 실행되는경우, 값을 반환하는 경우는 복잡도를 O(1)\n",
        "* 배열의 맨 끝에 도달했는지 판단, 혹은 주목할 원소와 검색할 값이 같은지 판단, 즉 판단하는 경우는 복잡도를 O(n)으로 나타낸다.\n",
        "\n",
        "-> 전체 복잡도는 차원이 가장 높은 복잡도를 선택하는 격이므로 선형검색 알고리즘의 복잡도는 **O(n)**이 된다.\n",
        "\n",
        "**(작다) < 1 - logn - n - nlogn - n2 - n3 - nk - 2n> (크다)**"
      ],
      "metadata": {
        "id": "JUkeopVAecot"
      }
    },
    {
      "cell_type": "code",
      "source": [
        "# 이진 검색의 시간 복잡도\n",
        "\n",
        "def bin_search(a:Sequence, key:Any) ->int:\n",
        "    pl=0 # o(1)\n",
        "    pr = len(a)-1 # o(1)\n",
        "\n",
        "    while True: \n",
        "        pc = (pl+pr)//2 # o(logn)\n",
        "        if a[pc] ==key: # o(logn)\n",
        "            return pc # o(1)\n",
        "        elif a[pc]<key: # o(logn)\n",
        "            pl=pc+1 # o(logn)\n",
        "        else: \n",
        "            pr = pc-1 # o(logn)\n",
        "        if pl > pr: # o(logn)\n",
        "            break\n",
        "            return -1 # o(1)"
      ],
      "metadata": {
        "id": "N5rqyeyUfUL9"
      },
      "execution_count": null,
      "outputs": []
    },
    {
      "cell_type": "markdown",
      "source": [
        "**이진검색의 시간 복잡도**\n",
        "\n",
        "o(1) + o(1) + o(logn) + ... = **o(logn)**"
      ],
      "metadata": {
        "id": "1oe9WGUBfX-B"
      }
    },
    {
      "cell_type": "markdown",
      "source": [
        "# 해시법"
      ],
      "metadata": {
        "id": "KYVV95EsPN4E"
      }
    },
    {
      "cell_type": "markdown",
      "source": [
        "* 데이터를 저장할 위치를 인덱스에 놓는다 라는것을 간단한 연산으로 구하는 방법\n",
        "* 데이터의 추가, 삭제도 효율적으로 수행할 수 있는 해시법\n",
        "* 해시값 = 배열의 키를 원소 개수로 나눈 나머지 / 이 방법을 해시함수라고 한다.\n",
        "* 해시 테이블 = 해시값을 인덱스로 두는 배열 / 여기서 만들어진 원소를 버킷이라고 한다.\n",
        "\n",
        "ex) 18 // 13 나머지 5 -> 버킷 x[5]"
      ],
      "metadata": {
        "id": "MsHaT0m3Rmwt"
      }
    },
    {
      "cell_type": "code",
      "source": [
        "# 해시 구성하는 노드\n",
        "\n",
        "from __future__ import annotations\n",
        "# 여기에서from __future__ import annotations를 사용하면 Python 모듈에서 주석 유형을 평가하는 방법이 변경됩니다. \n",
        "# 주석 평가를 연기하고 모든 주석을 다른 주석으로 마술처럼 취급합니다.\n",
        "# 즉, 주석을 개별 문자열로 취급합니다.\n",
        "\n",
        "from typing import Any, Type\n",
        "import hashlib\n",
        "\n",
        "class Node:\n",
        "    def __init__(self,key:Any, value:Any, next:Node) ->None:\n",
        "        self.key = key\n",
        "        self.value = value\n",
        "        self.next = next"
      ],
      "metadata": {
        "id": "1zy3GrgWPPMw"
      },
      "execution_count": null,
      "outputs": []
    },
    {
      "cell_type": "code",
      "source": [
        "class ChainedHash:\n",
        "    def __init__(self, capacity:int) -> None:\n",
        "        self.capacity = capacity\n",
        "        self.table = [None]* self.capacity\n",
        "    def hash_value(self,key:Any)->int:\n",
        "        if isinstance(key,int):\n",
        "            return key % self.capacity\n",
        "        return(int(hashlib.sha256(str(key).encode()).hexdigest(),16)% self.capacity)"
      ],
      "metadata": {
        "id": "PxZJkdpNXt_K"
      },
      "execution_count": null,
      "outputs": []
    },
    {
      "cell_type": "markdown",
      "source": [
        "* sha256 : 바이트(byte)문자열의 해시값을 구하는 해시 알고리즘의 생성자\n",
        "* encode() : hashlib.sha256에 바이트 문자열을 생성하는 함수, 즉 지정방식으로 문자열 인코딩하는 함수\n",
        "* hexdigest() : 해시값을 16진수 문자열로 변환"
      ],
      "metadata": {
        "id": "GIyGPa4PaFBl"
      }
    },
    {
      "cell_type": "code",
      "source": [
        "# 키로 원소를 검색하는 함수\n",
        "def search(self,key:Any)-> Any:\n",
        "    hash = self.hash_value(key)\n",
        "    p = self.table[hash]\n",
        "\n",
        "    while p is not None:\n",
        "        if p.key == key:\n",
        "            return p.value\n",
        "        p=p.next\n",
        "    return None\n"
      ],
      "metadata": {
        "id": "Y-Xdb94Zb-o_"
      },
      "execution_count": null,
      "outputs": []
    },
    {
      "cell_type": "code",
      "source": [
        "# 키로 원소를 추가하는 함수\n",
        "def add(self, key:Any, value:Any)->bool:\n",
        "    hash=self.hash_value(key)\n",
        "    p=self.table[hash]\n",
        "\n",
        "    while p is not None:\n",
        "        if p.key == key:\n",
        "            return False\n",
        "        p=p.next\n",
        "    \n",
        "    temp = Node(key,value,self.table[hash])\n",
        "    self.table[hash] = temp\n",
        "    return True"
      ],
      "metadata": {
        "id": "THDJ5GNjc5IM"
      },
      "execution_count": null,
      "outputs": []
    },
    {
      "cell_type": "code",
      "source": [
        "# 키로 원소를 삭제하는 함수\n",
        "def remove(self,key:Any)->bool:\n",
        "    hash=self.hash_value(key)\n",
        "    p=self.table[hash]\n",
        "    pp=None\n",
        "\n",
        "    while p is not None:\n",
        "        if p.key == key:\n",
        "            if pp is None:\n",
        "                self.table[hash]=p.next\n",
        "            else:\n",
        "                pp.next=p.next\n",
        "            return True\n",
        "        pp=p\n",
        "        p=p.next\n",
        "    return False"
      ],
      "metadata": {
        "id": "VPj_HqROdh1I"
      },
      "execution_count": null,
      "outputs": []
    },
    {
      "cell_type": "code",
      "source": [
        "from enum import Enum\n",
        "# 열거형(enumeration)은 고유한 상수값에 연결된 기호 이름의 집합니다."
      ],
      "metadata": {
        "id": "CYermmvLfMvd"
      },
      "execution_count": null,
      "outputs": []
    },
    {
      "cell_type": "markdown",
      "source": [
        "#오픈 주소법"
      ],
      "metadata": {
        "id": "76cPFsvFpAa1"
      }
    },
    {
      "cell_type": "markdown",
      "source": [
        "* 충돌이 발생했을때 재해시를 수행하여 빈 버킷을 찾는 방법, 즉 닫힌 해시법이라고도 한다.\n",
        "* 빈 버킷이 나올때까지 재해시를 반복하므로 선형 탐사법이라고도 한다."
      ],
      "metadata": {
        "id": "CHTy5S4apDjb"
      }
    },
    {
      "cell_type": "code",
      "source": [
        "# 버킷의 속성\n",
        "class Status(Enum):\n",
        "    OCCUPIED = 0  # 데이터를 저장\n",
        "    EMPTY = 1     # 비어 있음\n",
        "    DELETED = 2   # 삭제 완료"
      ],
      "metadata": {
        "id": "hr2yH_DrupTX"
      },
      "execution_count": 15,
      "outputs": []
    },
    {
      "cell_type": "code",
      "source": [
        "class Bucket:\n",
        "    \"\"\"해시를 구성하는 버킷\"\"\"\n",
        "\n",
        "    def __init__(self, key: Any = None, value: Any = None,\n",
        "                       stat: Status = Status.EMPTY) -> None:\n",
        "        \"\"\"초기화\"\"\"\n",
        "        self.key = key      # 키\n",
        "        self.value = value  # 값\n",
        "        self.stat = stat    # 속성\n",
        "\n",
        "    def set(self, key: Any, value: Any, stat: Status) -> None:\n",
        "        \"\"\"모든 필드에 값을 설정\"\"\"\n",
        "        self.key = key      # 키\n",
        "        self.value = value  # 값\n",
        "        self.stat = stat    # 속성\n",
        "\n",
        "    def set_status(self, stat: Status) -> None:\n",
        "        \"\"\"속성을 설정\"\"\"\n",
        "        self.stat = stat"
      ],
      "metadata": {
        "id": "lC5biN92uN9o"
      },
      "execution_count": 12,
      "outputs": []
    },
    {
      "cell_type": "code",
      "source": [
        "class OpenHash:\n",
        "    \"\"\"오픈 주소법을 구현하는 해시 클래스\"\"\"\n",
        "\n",
        "    def __init__(self, capacity: int) -> None:\n",
        "        \"\"\"초기화\"\"\"\n",
        "        self.capacity = capacity                 # 해시 테이블의 크기를 지정\n",
        "        self.table = [Bucket()] * self.capacity  # 해시 테이블\n",
        "\n",
        "    def hash_value(self, key: Any) -> int:\n",
        "        \"\"\"해시값을 구함\"\"\"\n",
        "        if isinstance(key, int):\n",
        "            return key % self.capacity\n",
        "        return(int(hashlib.md5(str(key).encode()).hexdigest(), 16)\n",
        "                % self.capacity)\n",
        "\n",
        "    def rehash_value(self, key: Any) -> int:\n",
        "        \"\"\"재해시값을 구함\"\"\"\n",
        "        return(self.hash_value(key) + 1) % self.capacity"
      ],
      "metadata": {
        "id": "9v2hMHEKpDzY"
      },
      "execution_count": 11,
      "outputs": []
    },
    {
      "cell_type": "code",
      "source": [
        "def search_node(self, key: Any) -> Any:\n",
        "        \"\"\"키가 key인 버킷을 검색\"\"\"\n",
        "        hash = self.hash_value(key)  # 검색하는 키의 해시값\n",
        "        p = self.table[hash]         # 버킷을 주목\n",
        "\n",
        "        for i in range(self.capacity):\n",
        "            if p.stat == Status.EMPTY:\n",
        "                break\n",
        "            elif p.stat == Status.OCCUPIED and p.key == key:\n",
        "                return p\n",
        "            hash = self.rehash_value(hash)  # 재해시\n",
        "            p = self.table[hash]\n",
        "        return None"
      ],
      "metadata": {
        "id": "k-pNn1k1uJeP"
      },
      "execution_count": 13,
      "outputs": []
    },
    {
      "cell_type": "code",
      "source": [
        "def search(self, key: Any) -> Any:\n",
        "        \"\"\"키가 key인 갖는 원소를 검색하여 값을 검색\"\"\"\n",
        "        p = self.search_node(key)\n",
        "        if p is not None:\n",
        "            return p.value  # 검색 성공\n",
        "        else:\n",
        "            return None     # 검색 실패"
      ],
      "metadata": {
        "id": "LxFIp9p7uJb9"
      },
      "execution_count": 14,
      "outputs": []
    },
    {
      "cell_type": "code",
      "source": [
        "def add(self, key: Any, value: Any) -> bool:\n",
        "        \"\"\"키가 key이고 값이 value인 요소를 추가\"\"\"\n",
        "        if self.search(key) is not None:\n",
        "            return False             # 이미 등록된 키\n",
        "\n",
        "        hash = self.hash_value(key)  # 추가하는 키의 해시값\n",
        "        p = self.table[hash]         # 버킷을 주목\n",
        "        for i in range(self.capacity):\n",
        "            if p.stat == Status.EMPTY or p.stat == Status.DELETED:\n",
        "                self.table[hash] = Bucket(key, value, Status.OCCUPIED)\n",
        "                return True\n",
        "            hash = self.rehash_value(hash)  # 재해시\n",
        "            p = self.table[hash]\n",
        "        return False                        # 해시 테이블이 가득 참"
      ],
      "metadata": {
        "id": "irwVQ4sNuUcL"
      },
      "execution_count": null,
      "outputs": []
    },
    {
      "cell_type": "code",
      "source": [
        "def remove(self, key: Any) -> int:\n",
        "        \"\"\"키가 key인 갖는 요소를 삭제\"\"\"\n",
        "        p = self.search_node(key)  # 버킷을 주목\n",
        "        if p is None:\n",
        "            return False           # 이 키는 등록되어 있지 않음\n",
        "        p.set_status(Status.DELETED)\n",
        "        return True"
      ],
      "metadata": {
        "id": "TbGkF0h3uXfN"
      },
      "execution_count": null,
      "outputs": []
    },
    {
      "cell_type": "code",
      "source": [
        "def dump(self) -> None:\n",
        "        \"\"\"해시 테이블을 덤프\"\"\"\n",
        "        for i in range(self.capacity):\n",
        "            print(f'{i:2} ', end='')\n",
        "            if self.table[i].stat == Status.OCCUPIED:\n",
        "                print(f'{self.table[i].key} ({self.table[i].value})')\n",
        "            elif self.table[i].stat == Status.EMPTY:\n",
        "                print('-- 미등록 --')\n",
        "            elif self.table[i] .stat == Status.DELETED:\n",
        "                print('-- 삭제 완료 --')"
      ],
      "metadata": {
        "id": "t5xRzTnXuUUg"
      },
      "execution_count": null,
      "outputs": []
    },
    {
      "cell_type": "markdown",
      "source": [
        "## 배운 3주차 정리\n",
        "\n",
        "* 선형 검색 : 무작위로 늘어놓은 데이터 집합에서 검색을 수행한다.\n",
        "* 이진 검색 : 일정한 규칙으로 늘어놓은 데이터 집합에서 빠른 검색을 수행한다.\n",
        "* 해시법 : 추가-삭제가 자주 일어나는 데이터 집합에서 빠른 검색을 수행한다. \n",
        "* 체인법 : 같은 해시값 데이터를 연결 리스트로 연결하는 방법이다.\n",
        "* 오픈 주소법 : 데이터를 위한 해시값이 충돌할 때 재해시하는 방법이다.\n"
      ],
      "metadata": {
        "id": "jNyRxWM9tWRe"
      }
    }
  ]
}