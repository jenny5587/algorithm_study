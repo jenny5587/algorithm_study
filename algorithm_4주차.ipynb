{
  "nbformat": 4,
  "nbformat_minor": 0,
  "metadata": {
    "colab": {
      "name": "algorithm_4주차.ipynb",
      "provenance": [],
      "collapsed_sections": [],
      "authorship_tag": "ABX9TyM1P9YOtLWOv3LsKo7z4Gzk"
    },
    "kernelspec": {
      "name": "python3",
      "display_name": "Python 3"
    },
    "language_info": {
      "name": "python"
    }
  },
  "cells": [
    {
      "cell_type": "markdown",
      "source": [
        "* 스택 : (후입선출) 데이터를 임시 저장할때 사용하는 자료구조"
      ],
      "metadata": {
        "id": "VzipSUGG8ACA"
      }
    },
    {
      "cell_type": "code",
      "execution_count": null,
      "metadata": {
        "id": "px2MK9lq7-Ux"
      },
      "outputs": [],
      "source": [
        "#스택 구현하기\n",
        "\n",
        "from typing import Any\n",
        "\n",
        "class FixedStack:\n",
        "    class Empty(Exception):\n",
        "        pass\n",
        "    class Full(Exception):\n",
        "        pass\n",
        "\n",
        "    def __init__(self, capacity:int=256)-> None:\n",
        "        self.stk = [None]*capacity\n",
        "        self.capacity = capacity\n",
        "        self.ptr =0\n",
        "\n",
        "    def __len__(self)-> int:\n",
        "        return self.ptr\n",
        "\n",
        "    def is_empty(self)->bool:\n",
        "        return self.ptr <=0\n",
        "\n",
        "    def is_full(self)->bool:\n",
        "        return self.ptr >= self.capacity"
      ]
    },
    {
      "cell_type": "markdown",
      "source": [
        "* 큐 : (선입선출) 데이터를 임시 저장할때 사용하는 자료구조"
      ],
      "metadata": {
        "id": "UwszxyNxZRFE"
      }
    },
    {
      "cell_type": "code",
      "source": [
        "from typing import Any\n",
        "\n",
        "class FixedQueue:\n",
        "\n",
        "    class Empty(Exception):\n",
        "        pass\n",
        "\n",
        "    class Full(Exception):\n",
        "        pass\n",
        "\n",
        "    def __init__(self, capacity: int) -> None:\n",
        "        \"\"\"초기화 선언\"\"\"\n",
        "        self.no = 0     # 현재 데이터 개수\n",
        "        self.front = 0  # 맨앞 원소 커서\n",
        "        self.rear = 0   # 맨끝 원소  커서\n",
        "        self.capacity = capacity      # 큐의 크기\n",
        "        self.que = [None] * capacity  # 큐의 본체\n",
        "\n",
        "    def __len__(self) -> int:\n",
        "        \"\"\"데이터 개수를 반환\"\"\"\n",
        "        return self.no\n",
        "\n",
        "    def is_empty(self) -> bool:\n",
        "        \"\"\"비어 있는지 판단\"\"\"\n",
        "        return self.no <= 0\n",
        "\n",
        "    def is_full(self) -> bool:\n",
        "        \"\"\"가득 찼는지 판단\"\"\"\n",
        "        return self.no >= self.capacity"
      ],
      "metadata": {
        "id": "9NWBbAR75ynE"
      },
      "execution_count": null,
      "outputs": []
    },
    {
      "cell_type": "code",
      "source": [
        ""
      ],
      "metadata": {
        "id": "WR-DT00SA6QA"
      },
      "execution_count": null,
      "outputs": []
    }
  ]
}