{
  "nbformat": 4,
  "nbformat_minor": 0,
  "metadata": {
    "colab": {
      "name": "algorithm_4주차.ipynb",
      "provenance": [],
      "authorship_tag": "ABX9TyPU+Pqk/+Pvqqn8a2DIIy4b"
    },
    "kernelspec": {
      "name": "python3",
      "display_name": "Python 3"
    },
    "language_info": {
      "name": "python"
    }
  },
  "cells": [
    {
      "cell_type": "markdown",
      "source": [
        "* 스택 : 데이터를 임시 저장할때 사용하는 자료구조"
      ],
      "metadata": {
        "id": "VzipSUGG8ACA"
      }
    },
    {
      "cell_type": "code",
      "execution_count": null,
      "metadata": {
        "id": "px2MK9lq7-Ux"
      },
      "outputs": [],
      "source": [
        "#스택 구현하기\n",
        "\n",
        "from typing import Any\n",
        "\n",
        "class FixedStack:\n",
        "    class Empty(Exception):\n",
        "        pass\n",
        "    class Full(Exception):\n",
        "        pass\n",
        "\n",
        "    def __init__(self, capacity:int=256)-> None:\n",
        "        self.stk = [None]*capacity\n",
        "        self.capacity = capacity\n",
        "        self.ptr =0\n",
        "\n",
        "    def __len__(self)-> int:\n",
        "        return self.ptr\n",
        "\n",
        "    def is_empty(self)->bool:\n",
        "        return self.ptr <=0\n",
        "\n",
        "    def is_full(self)->bool:\n",
        "        return self.ptr >= self.capacity"
      ]
    },
    {
      "cell_type": "code",
      "source": [
        ""
      ],
      "metadata": {
        "id": "WR-DT00SA6QA"
      },
      "execution_count": null,
      "outputs": []
    }
  ]
}