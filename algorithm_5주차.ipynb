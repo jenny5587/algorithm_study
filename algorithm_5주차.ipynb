{
  "nbformat": 4,
  "nbformat_minor": 0,
  "metadata": {
    "colab": {
      "name": "algorithm_5주차.ipynb",
      "provenance": [],
      "authorship_tag": "ABX9TyOOR7RqYxFVBkP9wjVWmJ46"
    },
    "kernelspec": {
      "name": "python3",
      "display_name": "Python 3"
    },
    "language_info": {
      "name": "python"
    }
  },
  "cells": [
    {
      "cell_type": "markdown",
      "source": [
        "## 재귀알고리즘"
      ],
      "metadata": {
        "id": "TZu7byugPUoM"
      }
    },
    {
      "cell_type": "markdown",
      "source": [
        "* 팩토리얼 n!의 정의\n",
        " * 0! = 1\n",
        " * n>0이면 n! = n x (n-1)!\n",
        "  * ex) 10! = 10 x 9!"
      ],
      "metadata": {
        "id": "htDYyECnKdH8"
      }
    },
    {
      "cell_type": "code",
      "execution_count": 4,
      "metadata": {
        "colab": {
          "base_uri": "https://localhost:8080/"
        },
        "id": "zQmBe1hcKXEE",
        "outputId": "93197ada-b5a5-4962-f372-cc162997a958"
      },
      "outputs": [
        {
          "output_type": "stream",
          "name": "stdout",
          "text": [
            "출력할 팩토리얼 값을 입력하세요.:3\n",
            "3의 팩토리얼은 6입니다.\n"
          ]
        }
      ],
      "source": [
        "# 양의 정수 factorial 함수\n",
        "\n",
        "def factorial(n:int) -> int:\n",
        "    if n > 0:\n",
        "        return n * factorial(n-1)\n",
        "    else:\n",
        "        return 1\n",
        "\n",
        "\n",
        "if __name__ == '__main__':\n",
        "    n = int(input('출력할 팩토리얼 값을 입력하세요.:'))\n",
        "    print(f'{n}의 팩토리얼은 {factorial(n)}입니다.')"
      ]
    },
    {
      "cell_type": "code",
      "source": [
        "# 유클리드 호제법으로 최대 공약수 구하기(gcd)\n",
        "# 유클리드 호제법은 2개의 자연수로 최대공약수를 구하는 알고리즘이다.\n",
        "\n",
        "def gcd(x:int, y:int)-> int:\n",
        "    if y == 0:\n",
        "        return x\n",
        "    else:\n",
        "        return gcd(y, x%y)\n",
        "\n",
        "if __name__ == '__main__':\n",
        "    x=int(input('첫 번째 정수값을 입력하세요.:'))\n",
        "    y=int(input('두 번째 정수값을 입력하세요.:'))\n",
        "\n",
        "    print(f'두 정숫값의 최대 공약수는 {gcd(y,x%y)}입니다.')"
      ],
      "metadata": {
        "colab": {
          "base_uri": "https://localhost:8080/"
        },
        "id": "vqYh_qK7OFof",
        "outputId": "679f5997-789c-4645-9689-a8ffc3a7a785"
      },
      "execution_count": 5,
      "outputs": [
        {
          "output_type": "stream",
          "name": "stdout",
          "text": [
            "첫 번째 정수값을 입력하세요.:22\n",
            "두 번째 정수값을 입력하세요.:8\n",
            "두 정숫값의 최대 공약수는 2입니다.\n"
          ]
        }
      ]
    },
    {
      "cell_type": "markdown",
      "source": [
        "## 재귀 알고리즘 분석"
      ],
      "metadata": {
        "id": "7PXS07bpPSOq"
      }
    },
    {
      "cell_type": "code",
      "source": [
        "# 순수한 재귀 함수 구현(recur)\n",
        "\n",
        "def recur(n:int)->int:\n",
        "    if n >0:\n",
        "        recur(n-1)\n",
        "        print(n)\n",
        "        recur(n-2)\n",
        "\n",
        "x= int(input('정숫값을 입력하세요.:'))\n",
        "\n",
        "recur(x)"
      ],
      "metadata": {
        "colab": {
          "base_uri": "https://localhost:8080/"
        },
        "id": "qmlk5wM7PTlF",
        "outputId": "587c0472-b135-4d4b-9331-1ada7a9c9f85"
      },
      "execution_count": 11,
      "outputs": [
        {
          "output_type": "stream",
          "name": "stdout",
          "text": [
            "정숫값을 입력하세요.:4\n",
            "1\n",
            "2\n",
            "3\n",
            "1\n",
            "4\n",
            "1\n",
            "2\n"
          ]
        }
      ]
    },
    {
      "cell_type": "code",
      "source": [
        "# 스택 class\n",
        "from typing import Any\n",
        "from collections import deque\n",
        "\n",
        "class Stack:\n",
        "    \"\"\"고정 길이 스택 클래스(collections.deque를 사용)\"\"\"\n",
        "\n",
        "    def __init__(self, maxlen: int = 256) -> None:\n",
        "        \"\"\"초기화 선언\"\"\"\n",
        "        self.capacity = maxlen\n",
        "        self.__stk = deque([], maxlen)\n",
        "\n",
        "    def __len__(self) -> int:\n",
        "        \"\"\"스택에 쌓여있는 데이터 개수를 반환\"\"\"\n",
        "        return len(self.__stk)\n",
        "\n",
        "    def is_empty(self) -> bool:\n",
        "        \"\"\"스택이 비어 있는지 판단\"\"\"\n",
        "        return not self.__stk\n",
        "\n",
        "    def is_full(self) -> bool:\n",
        "        \"\"\"스택이 가득 찼는지 판단\"\"\"\n",
        "        return len(self.__stk) == self.__stk.maxlen\n",
        "\n",
        "    def push(self, value: Any) -> None:\n",
        "        \"\"\"스택에 value를 푸시\"\"\"\n",
        "        self.__stk.append(value)\n",
        "\n",
        "    def pop(self) -> Any:\n",
        "        \"\"\"스택에서 데이터를 팝\"\"\"\n",
        "        return self.__stk.pop()\n",
        "\n",
        "    def peek(self) -> Any:\n",
        "        \"\"\"스택에서 데이터를 피크\"\"\"\n",
        "        return self.__stk[-1]\n",
        "\n",
        "    def clear(self) -> None:\n",
        "        \"\"\"스택을 비웁니다\"\"\"\n",
        "        self.__stk.clear()\n",
        "\n",
        "    def find(self, value: Any) -> Any:\n",
        "        \"\"\"스택에서 value를 찾아 인덱스(없으면 -1)를 반환\"\"\"\n",
        "        try:\n",
        "            return self.__stk.index(value)\n",
        "        except ValueError:\n",
        "            return -1\n",
        "\n",
        "    def count(self, value: Any) -> int:\n",
        "        \"\"\"스택에 포함된 value의 개수를 반환\"\"\"\n",
        "        return self.__stk.count(value)\n",
        "\n",
        "    def __contains__(self, value: Any) -> bool:\n",
        "        \"\"\"스택에 value가 포함되어 있는지 판단\"\"\"\n",
        "        return self.count(value)\n",
        "\n",
        "    def dump(self) -> int:\n",
        "        \"\"\"스택 안에 있는 모든 데이터를 나열\"\"\"\n",
        "        print(list(self.__stk))"
      ],
      "metadata": {
        "id": "wGPY2hosUqxx"
      },
      "execution_count": 14,
      "outputs": []
    },
    {
      "cell_type": "code",
      "source": [
        "# 스택으로 재귀함수 구현하기\n",
        "def recur(n:int)->int:\n",
        "    s = Stack(n)\n",
        "\n",
        "    while True:\n",
        "        if n>0:\n",
        "            s.push(n)\n",
        "            n=n-1\n",
        "            continue\n",
        "        if not s.is_empty():\n",
        "            n=s.pop()\n",
        "            print(n)\n",
        "            n=n-2\n",
        "            continue\n",
        "        break\n",
        "\n",
        "x=int(input('정수값을 입력하세요.:'))\n",
        "\n",
        "recur(x)"
      ],
      "metadata": {
        "colab": {
          "base_uri": "https://localhost:8080/"
        },
        "id": "WrZB9JrgT7KH",
        "outputId": "8c8259d3-674f-45a7-92d7-356e3e8541c5"
      },
      "execution_count": 22,
      "outputs": [
        {
          "output_type": "stream",
          "name": "stdout",
          "text": [
            "정수값을 입력하세요.:4\n",
            "1\n",
            "2\n",
            "3\n",
            "1\n",
            "4\n",
            "1\n",
            "2\n"
          ]
        }
      ]
    }
  ]
}